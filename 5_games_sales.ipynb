{
 "cells": [
  {
   "cell_type": "markdown",
   "id": "b6d368af",
   "metadata": {},
   "source": [
    "# Introducción<a id='int'></a>"
   ]
  },
  {
   "cell_type": "markdown",
   "id": "853ec101",
   "metadata": {
    "ExecuteTime": {
     "end_time": "2023-01-05T14:45:47.311847Z",
     "start_time": "2023-01-05T14:45:47.291397Z"
    }
   },
   "source": [
    "La tienda online **Ice** vende videojuegos por todo el mundo. Esta tienda necesita identificar patrones que determinen si un juego tiene éxito o no. Esto le permitirá detectar proyectos prometedores y planificar campañas publicitarias. Es diciembre de 2016 y se está planeando una campaña para el 2017."
   ]
  },
  {
   "attachments": {},
   "cell_type": "markdown",
   "id": "596f9ec8",
   "metadata": {},
   "source": [
    "## Contentido<a id='con'></a>\n",
    "\n",
    "1. [Introducción](#int)\n",
    "    - [Contentido](#con)\n",
    "2. [Iniciación de datos](#ini)\n",
    "3. [Preparación de datos](#pre)\n",
    "    - [Renombramos columnas](#ren)\n",
    "    - [Información sobre valores categóricos](#inf)\n",
    "    - [Tratamiento de valores ausentes](#tra)\n",
    "    - [Tipos de datos](#tip)\n",
    "4. [Análisis de datos](#ana)\n",
    "    - [Juegos lanzados por año](#jue)\n",
    "    - [Ventas por plataforma de juego](#ven)\n",
    "    - [Período de tiempo](#per)\n",
    "    - [Plataformas son líderes en ventas](#pla)\n",
    "    - [Reseñas en la ventas de X360](#res)\n",
    "    - [Ventas en otras plataformas](#ven)\n",
    "    - [Ventas por género de juego](#vent)\n",
    "5. [Perfil de usuario para cada región](#per)\n",
    "    - [Las 5 plataformas en NA, EU y JP](#las)\n",
    "    - [Los 5 géneros en NA, EU y JP](#los)\n",
    "    - [Clasificaciones de ESRB afectan a las ventas en regiones individuales](#cla)\n",
    "6. [Prueba de hipótesis](#hip)\n",
    "    - [Prueba de hipótesis 1](#pr1)\n",
    "    - [Prueba de hipótesis 2](#pr2)\n",
    "7. [Conclusión general](#con)"
   ]
  },
  {
   "cell_type": "markdown",
   "id": "848bc149",
   "metadata": {},
   "source": [
    "# Iniciación de datos<a id='ini'></a>"
   ]
  },
  {
   "cell_type": "markdown",
   "id": "137f9fb0",
   "metadata": {},
   "source": [
    "Librerías y carga de datos"
   ]
  },
  {
   "cell_type": "code",
   "execution_count": 3,
   "id": "c1a747c8",
   "metadata": {
    "ExecuteTime": {
     "end_time": "2023-01-16T03:21:37.112201Z",
     "start_time": "2023-01-16T03:21:35.389135Z"
    }
   },
   "outputs": [],
   "source": [
    "# librerías\n",
    "import pandas as pd\n",
    "import matplotlib.pyplot as plt\n",
    "from scipy import stats as st\n",
    "import numpy as np\n",
    "import math\n",
    "import matplotlib.pyplot as plt\n",
    "from ipywidgets import interact  # para gráficos interactivos"
   ]
  },
  {
   "cell_type": "code",
   "execution_count": 4,
   "id": "7f4f69a8",
   "metadata": {
    "ExecuteTime": {
     "end_time": "2023-01-16T03:21:37.153607Z",
     "start_time": "2023-01-16T03:21:37.112201Z"
    }
   },
   "outputs": [],
   "source": [
    "# carga de datos\n",
    "try:\n",
    "    data = pd.read_csv('games.csv')\n",
    "except:\n",
    "    data = pd.read_csv('/datasets/games.csv')"
   ]
  },
  {
   "cell_type": "markdown",
   "id": "7fb9cb21",
   "metadata": {},
   "source": [
    "**Descripción de datos**\n",
    "\n",
    "* Name: Nombre del juego.\n",
    "* Platform: Plataforma de juego, Wii, NES, PS3, etc.\n",
    "* Year_of_Release: Año de lanzamiento.\n",
    "* Genre: Género de juego, sports, action, role-playin, etc.\n",
    "* NA_sales: Ventas en Norteamérica en millones de dólares estadounidenses.\n",
    "* EU_sales: Ventas en Europa en millones de dólares estadounidenses.\n",
    "* JP_sales: Ventas en Japón en millones de dólares estadounidenses.\n",
    "* Other_sales: Ventas en otros países en millones de dólares estadounidenses.\n",
    "* Critic_Score: Máximo de 100.\n",
    "* User_Score: Máximo de 10.\n",
    "* Ratting: Clasificación ESRB (Entertainment Software Rating Board) acerca del contenido de los videojuegos\n",
    "    - E: todos\n",
    "    - E10+: todos a partir de 10 años\n",
    "    - T: adolescentes\n",
    "    - M: maduro a partir de 17 años\n",
    "    - AO: solo adultos de más de 18 años\n",
    "    - RP: aún sin clasificar, probablemente madura +17\n",
    "    - EC: niños pequeños hasta 5 años (clasificación descontinuada)\n",
    "    - K-A: para niños y adultos, en el 1998 pasó a llamarse E.\n"
   ]
  },
  {
   "cell_type": "code",
   "execution_count": 5,
   "id": "bd621d83",
   "metadata": {
    "ExecuteTime": {
     "end_time": "2023-01-16T03:21:37.195852Z",
     "start_time": "2023-01-16T03:21:37.154601Z"
    }
   },
   "outputs": [
    {
     "data": {
      "text/html": [
       "<div>\n",
       "<style scoped>\n",
       "    .dataframe tbody tr th:only-of-type {\n",
       "        vertical-align: middle;\n",
       "    }\n",
       "\n",
       "    .dataframe tbody tr th {\n",
       "        vertical-align: top;\n",
       "    }\n",
       "\n",
       "    .dataframe thead th {\n",
       "        text-align: right;\n",
       "    }\n",
       "</style>\n",
       "<table border=\"1\" class=\"dataframe\">\n",
       "  <thead>\n",
       "    <tr style=\"text-align: right;\">\n",
       "      <th></th>\n",
       "      <th>Name</th>\n",
       "      <th>Platform</th>\n",
       "      <th>Year_of_Release</th>\n",
       "      <th>Genre</th>\n",
       "      <th>NA_sales</th>\n",
       "      <th>EU_sales</th>\n",
       "      <th>JP_sales</th>\n",
       "      <th>Other_sales</th>\n",
       "      <th>Critic_Score</th>\n",
       "      <th>User_Score</th>\n",
       "      <th>Rating</th>\n",
       "    </tr>\n",
       "  </thead>\n",
       "  <tbody>\n",
       "    <tr>\n",
       "      <th>0</th>\n",
       "      <td>Wii Sports</td>\n",
       "      <td>Wii</td>\n",
       "      <td>2006.0</td>\n",
       "      <td>Sports</td>\n",
       "      <td>41.36</td>\n",
       "      <td>28.96</td>\n",
       "      <td>3.77</td>\n",
       "      <td>8.45</td>\n",
       "      <td>76.0</td>\n",
       "      <td>8</td>\n",
       "      <td>E</td>\n",
       "    </tr>\n",
       "    <tr>\n",
       "      <th>1</th>\n",
       "      <td>Super Mario Bros.</td>\n",
       "      <td>NES</td>\n",
       "      <td>1985.0</td>\n",
       "      <td>Platform</td>\n",
       "      <td>29.08</td>\n",
       "      <td>3.58</td>\n",
       "      <td>6.81</td>\n",
       "      <td>0.77</td>\n",
       "      <td>NaN</td>\n",
       "      <td>NaN</td>\n",
       "      <td>NaN</td>\n",
       "    </tr>\n",
       "    <tr>\n",
       "      <th>2</th>\n",
       "      <td>Mario Kart Wii</td>\n",
       "      <td>Wii</td>\n",
       "      <td>2008.0</td>\n",
       "      <td>Racing</td>\n",
       "      <td>15.68</td>\n",
       "      <td>12.76</td>\n",
       "      <td>3.79</td>\n",
       "      <td>3.29</td>\n",
       "      <td>82.0</td>\n",
       "      <td>8.3</td>\n",
       "      <td>E</td>\n",
       "    </tr>\n",
       "    <tr>\n",
       "      <th>3</th>\n",
       "      <td>Wii Sports Resort</td>\n",
       "      <td>Wii</td>\n",
       "      <td>2009.0</td>\n",
       "      <td>Sports</td>\n",
       "      <td>15.61</td>\n",
       "      <td>10.93</td>\n",
       "      <td>3.28</td>\n",
       "      <td>2.95</td>\n",
       "      <td>80.0</td>\n",
       "      <td>8</td>\n",
       "      <td>E</td>\n",
       "    </tr>\n",
       "    <tr>\n",
       "      <th>4</th>\n",
       "      <td>Pokemon Red/Pokemon Blue</td>\n",
       "      <td>GB</td>\n",
       "      <td>1996.0</td>\n",
       "      <td>Role-Playing</td>\n",
       "      <td>11.27</td>\n",
       "      <td>8.89</td>\n",
       "      <td>10.22</td>\n",
       "      <td>1.00</td>\n",
       "      <td>NaN</td>\n",
       "      <td>NaN</td>\n",
       "      <td>NaN</td>\n",
       "    </tr>\n",
       "    <tr>\n",
       "      <th>5</th>\n",
       "      <td>Tetris</td>\n",
       "      <td>GB</td>\n",
       "      <td>1989.0</td>\n",
       "      <td>Puzzle</td>\n",
       "      <td>23.20</td>\n",
       "      <td>2.26</td>\n",
       "      <td>4.22</td>\n",
       "      <td>0.58</td>\n",
       "      <td>NaN</td>\n",
       "      <td>NaN</td>\n",
       "      <td>NaN</td>\n",
       "    </tr>\n",
       "    <tr>\n",
       "      <th>6</th>\n",
       "      <td>New Super Mario Bros.</td>\n",
       "      <td>DS</td>\n",
       "      <td>2006.0</td>\n",
       "      <td>Platform</td>\n",
       "      <td>11.28</td>\n",
       "      <td>9.14</td>\n",
       "      <td>6.50</td>\n",
       "      <td>2.88</td>\n",
       "      <td>89.0</td>\n",
       "      <td>8.5</td>\n",
       "      <td>E</td>\n",
       "    </tr>\n",
       "    <tr>\n",
       "      <th>7</th>\n",
       "      <td>Wii Play</td>\n",
       "      <td>Wii</td>\n",
       "      <td>2006.0</td>\n",
       "      <td>Misc</td>\n",
       "      <td>13.96</td>\n",
       "      <td>9.18</td>\n",
       "      <td>2.93</td>\n",
       "      <td>2.84</td>\n",
       "      <td>58.0</td>\n",
       "      <td>6.6</td>\n",
       "      <td>E</td>\n",
       "    </tr>\n",
       "    <tr>\n",
       "      <th>8</th>\n",
       "      <td>New Super Mario Bros. Wii</td>\n",
       "      <td>Wii</td>\n",
       "      <td>2009.0</td>\n",
       "      <td>Platform</td>\n",
       "      <td>14.44</td>\n",
       "      <td>6.94</td>\n",
       "      <td>4.70</td>\n",
       "      <td>2.24</td>\n",
       "      <td>87.0</td>\n",
       "      <td>8.4</td>\n",
       "      <td>E</td>\n",
       "    </tr>\n",
       "    <tr>\n",
       "      <th>9</th>\n",
       "      <td>Duck Hunt</td>\n",
       "      <td>NES</td>\n",
       "      <td>1984.0</td>\n",
       "      <td>Shooter</td>\n",
       "      <td>26.93</td>\n",
       "      <td>0.63</td>\n",
       "      <td>0.28</td>\n",
       "      <td>0.47</td>\n",
       "      <td>NaN</td>\n",
       "      <td>NaN</td>\n",
       "      <td>NaN</td>\n",
       "    </tr>\n",
       "  </tbody>\n",
       "</table>\n",
       "</div>"
      ],
      "text/plain": [
       "                        Name Platform  Year_of_Release         Genre  \\\n",
       "0                 Wii Sports      Wii           2006.0        Sports   \n",
       "1          Super Mario Bros.      NES           1985.0      Platform   \n",
       "2             Mario Kart Wii      Wii           2008.0        Racing   \n",
       "3          Wii Sports Resort      Wii           2009.0        Sports   \n",
       "4   Pokemon Red/Pokemon Blue       GB           1996.0  Role-Playing   \n",
       "5                     Tetris       GB           1989.0        Puzzle   \n",
       "6      New Super Mario Bros.       DS           2006.0      Platform   \n",
       "7                   Wii Play      Wii           2006.0          Misc   \n",
       "8  New Super Mario Bros. Wii      Wii           2009.0      Platform   \n",
       "9                  Duck Hunt      NES           1984.0       Shooter   \n",
       "\n",
       "   NA_sales  EU_sales  JP_sales  Other_sales  Critic_Score User_Score Rating  \n",
       "0     41.36     28.96      3.77         8.45          76.0          8      E  \n",
       "1     29.08      3.58      6.81         0.77           NaN        NaN    NaN  \n",
       "2     15.68     12.76      3.79         3.29          82.0        8.3      E  \n",
       "3     15.61     10.93      3.28         2.95          80.0          8      E  \n",
       "4     11.27      8.89     10.22         1.00           NaN        NaN    NaN  \n",
       "5     23.20      2.26      4.22         0.58           NaN        NaN    NaN  \n",
       "6     11.28      9.14      6.50         2.88          89.0        8.5      E  \n",
       "7     13.96      9.18      2.93         2.84          58.0        6.6      E  \n",
       "8     14.44      6.94      4.70         2.24          87.0        8.4      E  \n",
       "9     26.93      0.63      0.28         0.47           NaN        NaN    NaN  "
      ]
     },
     "metadata": {},
     "output_type": "display_data"
    },
    {
     "name": "stdout",
     "output_type": "stream",
     "text": [
      "hay 0 registros duplicados\n",
      "\n",
      "<class 'pandas.core.frame.DataFrame'>\n",
      "RangeIndex: 16715 entries, 0 to 16714\n",
      "Data columns (total 11 columns):\n",
      " #   Column           Non-Null Count  Dtype  \n",
      "---  ------           --------------  -----  \n",
      " 0   Name             16713 non-null  object \n",
      " 1   Platform         16715 non-null  object \n",
      " 2   Year_of_Release  16446 non-null  float64\n",
      " 3   Genre            16713 non-null  object \n",
      " 4   NA_sales         16715 non-null  float64\n",
      " 5   EU_sales         16715 non-null  float64\n",
      " 6   JP_sales         16715 non-null  float64\n",
      " 7   Other_sales      16715 non-null  float64\n",
      " 8   Critic_Score     8137 non-null   float64\n",
      " 9   User_Score       10014 non-null  object \n",
      " 10  Rating           9949 non-null   object \n",
      "dtypes: float64(6), object(5)\n",
      "memory usage: 1.4+ MB\n"
     ]
    }
   ],
   "source": [
    "display(data.head(10))\n",
    "print('hay', data.duplicated().sum(), 'registros duplicados', )\n",
    "print()\n",
    "data.info()"
   ]
  },
  {
   "cell_type": "markdown",
   "id": "c5f0124f",
   "metadata": {},
   "source": [
    "Inicializando los datos podemos ver un dataset de 16715 registros y 11 columnas, no existen registros completos duplicados. Vemos nombres de columnas por renombrar, por tipos de datos por actualizar y valores ausentes por investigar e imputar de ser necesario."
   ]
  },
  {
   "cell_type": "markdown",
   "id": "58015d78",
   "metadata": {},
   "source": [
    "# Preparación de datos<a id='pre'></a>"
   ]
  },
  {
   "cell_type": "markdown",
   "id": "3ca04a6f",
   "metadata": {},
   "source": [
    "Para preparar los datos, realizaremos las siguientes acciones:\n",
    "* Renombraremos con minúsculas todos los nombres de columnas. \n",
    "* Mostraremos valores únicos por cada columna, para tener un panorama de los valores como herramienta de consulta.\n",
    "* Observamos que necesitaremos tratar valores ausentes en las columnas `name`, `year_of_release`, `genre`, `critic_score`, `user_score` y `rating`. Además revisar en `user_score` el valor tbd 'to be determined'(2424 valores) que significa, y como manejaremos estos datos.\n",
    "* Después de los imputamientos de NaN, cambiaremos el tipo de datos en columnas que requiera de un cambio."
   ]
  },
  {
   "cell_type": "markdown",
   "id": "5b30ece8",
   "metadata": {},
   "source": [
    "## Renombramos columnas<a id='ren'></a>"
   ]
  },
  {
   "cell_type": "code",
   "execution_count": 6,
   "id": "7ee86629",
   "metadata": {
    "ExecuteTime": {
     "end_time": "2023-01-16T03:21:37.211705Z",
     "start_time": "2023-01-16T03:21:37.195852Z"
    }
   },
   "outputs": [
    {
     "data": {
      "text/plain": [
       "Index(['name', 'platform', 'year_of_release', 'genre', 'na_sales', 'eu_sales',\n",
       "       'jp_sales', 'other_sales', 'critic_score', 'user_score', 'rating'],\n",
       "      dtype='object')"
      ]
     },
     "execution_count": 6,
     "metadata": {},
     "output_type": "execute_result"
    }
   ],
   "source": [
    "# Convertir en minúsculas todos los nombres de columnas\n",
    "data.columns = data.columns.str.lower()\n",
    "data.columns"
   ]
  },
  {
   "cell_type": "markdown",
   "id": "25fe6647",
   "metadata": {},
   "source": [
    "Listo, el nombre de las columnas en minúsculas."
   ]
  },
  {
   "cell_type": "markdown",
   "id": "6118e4ed",
   "metadata": {
    "ExecuteTime": {
     "end_time": "2023-01-16T03:21:25.557761Z",
     "start_time": "2023-01-16T03:21:25.553772Z"
    }
   },
   "source": [
    "## Información sobre valores categóricos<a id='inf'></a>"
   ]
  },
  {
   "cell_type": "markdown",
   "id": "9ec95892",
   "metadata": {},
   "source": [
    "Con el fin de conocer los valores de nuestras columnas dejamos el siguiente resumen:"
   ]
  },
  {
   "cell_type": "code",
   "execution_count": 7,
   "id": "aedf2475",
   "metadata": {
    "ExecuteTime": {
     "end_time": "2023-01-16T03:21:37.268119Z",
     "start_time": "2023-01-16T03:21:37.213701Z"
    },
    "scrolled": false
   },
   "outputs": [
    {
     "name": "stdout",
     "output_type": "stream",
     "text": [
      "column name , unique values  11560\n",
      "[' Beyblade Burst' ' Fire Emblem Fates' \" Frozen: Olaf's Quest\" ...\n",
      " 'wwe Smackdown vs. Raw 2006' '¡Shin Chan Flipa en colores!' nan]\n",
      "\n",
      "column platform , unique values  31\n",
      "['2600' '3DO' '3DS' 'DC' 'DS' 'GB' 'GBA' 'GC' 'GEN' 'GG' 'N64' 'NES' 'NG'\n",
      " 'PC' 'PCFX' 'PS' 'PS2' 'PS3' 'PS4' 'PSP' 'PSV' 'SAT' 'SCD' 'SNES' 'TG16'\n",
      " 'WS' 'Wii' 'WiiU' 'X360' 'XB' 'XOne']\n",
      "\n",
      "column year_of_release , unique values  38\n",
      "[1980. 1981. 1982. 1983. 1984. 1985. 1986. 1987. 1988. 1989. 1990. 1991.\n",
      " 1992. 1993. 1994. 1995. 1996. 1997. 1998. 1999. 2000. 2001. 2002. 2003.\n",
      " 2004. 2005. 2006. 2007. 2008. 2009. 2010. 2011. 2012. 2013. 2014. 2015.\n",
      " 2016.   nan]\n",
      "\n",
      "column genre , unique values  13\n",
      "['Action' 'Adventure' 'Fighting' 'Misc' 'Platform' 'Puzzle' 'Racing'\n",
      " 'Role-Playing' 'Shooter' 'Simulation' 'Sports' 'Strategy' nan]\n",
      "\n",
      "column critic_score , unique values  83\n",
      "[13. 17. 19. 20. 21. 22. 23. 24. 25. 26. 27. 28. 29. 30. 31. 32. 33. 34.\n",
      " 35. 36. 37. 38. 39. 40. 41. 42. 43. 44. 45. 46. 47. 48. 49. 50. 51. 52.\n",
      " 53. 54. 55. 56. 57. 58. 59. 60. 61. 62. 63. 64. 65. 66. 67. 68. 69. 70.\n",
      " 71. 72. 73. 74. 75. 76. 77. 78. 79. 80. 81. 82. 83. 84. 85. 86. 87. 88.\n",
      " 89. 90. 91. 92. 93. 94. 95. 96. 97. 98. nan]\n",
      "\n",
      "column user_score , unique values  97\n",
      "['0' '0.2' '0.3' '0.5' '0.6' '0.7' '0.9' '1' '1.1' '1.2' '1.3' '1.4' '1.5'\n",
      " '1.6' '1.7' '1.8' '1.9' '2' '2.1' '2.2' '2.3' '2.4' '2.5' '2.6' '2.7'\n",
      " '2.8' '2.9' '3' '3.1' '3.2' '3.3' '3.4' '3.5' '3.6' '3.7' '3.8' '3.9' '4'\n",
      " '4.1' '4.2' '4.3' '4.4' '4.5' '4.6' '4.7' '4.8' '4.9' '5' '5.1' '5.2'\n",
      " '5.3' '5.4' '5.5' '5.6' '5.7' '5.8' '5.9' '6' '6.1' '6.2' '6.3' '6.4'\n",
      " '6.5' '6.6' '6.7' '6.8' '6.9' '7' '7.1' '7.2' '7.3' '7.4' '7.5' '7.6'\n",
      " '7.7' '7.8' '7.9' '8' '8.1' '8.2' '8.3' '8.4' '8.5' '8.6' '8.7' '8.8'\n",
      " '8.9' '9' '9.1' '9.2' '9.3' '9.4' '9.5' '9.6' '9.7' 'tbd' nan]\n",
      "\n",
      "column rating , unique values  9\n",
      "['AO' 'E' 'E10+' 'EC' 'K-A' 'M' 'RP' 'T' nan]\n",
      "\n"
     ]
    }
   ],
   "source": [
    "# Revisemos valores únicos en varias columnas\n",
    "for column in ['name','platform', 'year_of_release', 'genre', 'critic_score', 'user_score', 'rating']:\n",
    "    print('column', column, ', unique values ', len(data[column].unique()))\n",
    "    print(data[column].sort_values().unique())\n",
    "    print()"
   ]
  },
  {
   "cell_type": "markdown",
   "id": "5f43cf93",
   "metadata": {},
   "source": [
    "## Tratamiento de valores ausentes<a id='tra'></a>\n",
    "Analizaremos los datos ausentes en cada columna y realizaremos un tratamiento adecuado."
   ]
  },
  {
   "cell_type": "code",
   "execution_count": 8,
   "id": "473d8c89",
   "metadata": {
    "ExecuteTime": {
     "end_time": "2023-01-16T03:21:37.291541Z",
     "start_time": "2023-01-16T03:21:37.270115Z"
    }
   },
   "outputs": [
    {
     "name": "stdout",
     "output_type": "stream",
     "text": [
      "Missing values by column:\n"
     ]
    },
    {
     "data": {
      "text/plain": [
       "name                  2\n",
       "platform              0\n",
       "year_of_release     269\n",
       "genre                 2\n",
       "na_sales              0\n",
       "eu_sales              0\n",
       "jp_sales              0\n",
       "other_sales           0\n",
       "critic_score       8578\n",
       "user_score         6701\n",
       "rating             6766\n",
       "dtype: int64"
      ]
     },
     "execution_count": 8,
     "metadata": {},
     "output_type": "execute_result"
    }
   ],
   "source": [
    "# Revisemos total de valores ausentes por columnas\n",
    "print('Missing values by column:')\n",
    "data.isna().sum()"
   ]
  },
  {
   "cell_type": "code",
   "execution_count": 9,
   "id": "f9325990",
   "metadata": {
    "ExecuteTime": {
     "end_time": "2023-01-16T03:21:37.322458Z",
     "start_time": "2023-01-16T03:21:37.293535Z"
    }
   },
   "outputs": [
    {
     "data": {
      "text/html": [
       "<div>\n",
       "<style scoped>\n",
       "    .dataframe tbody tr th:only-of-type {\n",
       "        vertical-align: middle;\n",
       "    }\n",
       "\n",
       "    .dataframe tbody tr th {\n",
       "        vertical-align: top;\n",
       "    }\n",
       "\n",
       "    .dataframe thead th {\n",
       "        text-align: right;\n",
       "    }\n",
       "</style>\n",
       "<table border=\"1\" class=\"dataframe\">\n",
       "  <thead>\n",
       "    <tr style=\"text-align: right;\">\n",
       "      <th></th>\n",
       "      <th>name</th>\n",
       "      <th>platform</th>\n",
       "      <th>year_of_release</th>\n",
       "      <th>genre</th>\n",
       "      <th>na_sales</th>\n",
       "      <th>eu_sales</th>\n",
       "      <th>jp_sales</th>\n",
       "      <th>other_sales</th>\n",
       "      <th>critic_score</th>\n",
       "      <th>user_score</th>\n",
       "      <th>rating</th>\n",
       "    </tr>\n",
       "  </thead>\n",
       "  <tbody>\n",
       "    <tr>\n",
       "      <th>659</th>\n",
       "      <td>NaN</td>\n",
       "      <td>GEN</td>\n",
       "      <td>1993.0</td>\n",
       "      <td>NaN</td>\n",
       "      <td>1.78</td>\n",
       "      <td>0.53</td>\n",
       "      <td>0.00</td>\n",
       "      <td>0.08</td>\n",
       "      <td>NaN</td>\n",
       "      <td>NaN</td>\n",
       "      <td>NaN</td>\n",
       "    </tr>\n",
       "    <tr>\n",
       "      <th>14244</th>\n",
       "      <td>NaN</td>\n",
       "      <td>GEN</td>\n",
       "      <td>1993.0</td>\n",
       "      <td>NaN</td>\n",
       "      <td>0.00</td>\n",
       "      <td>0.00</td>\n",
       "      <td>0.03</td>\n",
       "      <td>0.00</td>\n",
       "      <td>NaN</td>\n",
       "      <td>NaN</td>\n",
       "      <td>NaN</td>\n",
       "    </tr>\n",
       "  </tbody>\n",
       "</table>\n",
       "</div>"
      ],
      "text/plain": [
       "      name platform  year_of_release genre  na_sales  eu_sales  jp_sales  \\\n",
       "659    NaN      GEN           1993.0   NaN      1.78      0.53      0.00   \n",
       "14244  NaN      GEN           1993.0   NaN      0.00      0.00      0.03   \n",
       "\n",
       "       other_sales  critic_score user_score rating  \n",
       "659           0.08           NaN        NaN    NaN  \n",
       "14244         0.00           NaN        NaN    NaN  "
      ]
     },
     "metadata": {},
     "output_type": "display_data"
    },
    {
     "data": {
      "text/html": [
       "<div>\n",
       "<style scoped>\n",
       "    .dataframe tbody tr th:only-of-type {\n",
       "        vertical-align: middle;\n",
       "    }\n",
       "\n",
       "    .dataframe tbody tr th {\n",
       "        vertical-align: top;\n",
       "    }\n",
       "\n",
       "    .dataframe thead th {\n",
       "        text-align: right;\n",
       "    }\n",
       "</style>\n",
       "<table border=\"1\" class=\"dataframe\">\n",
       "  <thead>\n",
       "    <tr style=\"text-align: right;\">\n",
       "      <th></th>\n",
       "      <th>name</th>\n",
       "      <th>platform</th>\n",
       "      <th>year_of_release</th>\n",
       "      <th>genre</th>\n",
       "      <th>na_sales</th>\n",
       "      <th>eu_sales</th>\n",
       "      <th>jp_sales</th>\n",
       "      <th>other_sales</th>\n",
       "      <th>critic_score</th>\n",
       "      <th>user_score</th>\n",
       "      <th>rating</th>\n",
       "    </tr>\n",
       "  </thead>\n",
       "  <tbody>\n",
       "    <tr>\n",
       "      <th>475</th>\n",
       "      <td>wwe Smackdown vs. Raw 2006</td>\n",
       "      <td>PS2</td>\n",
       "      <td>NaN</td>\n",
       "      <td>Fighting</td>\n",
       "      <td>1.57</td>\n",
       "      <td>1.02</td>\n",
       "      <td>0.00</td>\n",
       "      <td>0.41</td>\n",
       "      <td>NaN</td>\n",
       "      <td>NaN</td>\n",
       "      <td>NaN</td>\n",
       "    </tr>\n",
       "    <tr>\n",
       "      <th>609</th>\n",
       "      <td>Space Invaders</td>\n",
       "      <td>2600</td>\n",
       "      <td>NaN</td>\n",
       "      <td>Shooter</td>\n",
       "      <td>2.36</td>\n",
       "      <td>0.14</td>\n",
       "      <td>0.00</td>\n",
       "      <td>0.03</td>\n",
       "      <td>NaN</td>\n",
       "      <td>NaN</td>\n",
       "      <td>NaN</td>\n",
       "    </tr>\n",
       "    <tr>\n",
       "      <th>1301</th>\n",
       "      <td>Triple Play 99</td>\n",
       "      <td>PS</td>\n",
       "      <td>NaN</td>\n",
       "      <td>Sports</td>\n",
       "      <td>0.81</td>\n",
       "      <td>0.55</td>\n",
       "      <td>0.00</td>\n",
       "      <td>0.10</td>\n",
       "      <td>NaN</td>\n",
       "      <td>NaN</td>\n",
       "      <td>NaN</td>\n",
       "    </tr>\n",
       "    <tr>\n",
       "      <th>1506</th>\n",
       "      <td>Adventure</td>\n",
       "      <td>2600</td>\n",
       "      <td>NaN</td>\n",
       "      <td>Adventure</td>\n",
       "      <td>1.21</td>\n",
       "      <td>0.08</td>\n",
       "      <td>0.00</td>\n",
       "      <td>0.01</td>\n",
       "      <td>NaN</td>\n",
       "      <td>NaN</td>\n",
       "      <td>NaN</td>\n",
       "    </tr>\n",
       "    <tr>\n",
       "      <th>1585</th>\n",
       "      <td>Combat</td>\n",
       "      <td>2600</td>\n",
       "      <td>NaN</td>\n",
       "      <td>Action</td>\n",
       "      <td>1.17</td>\n",
       "      <td>0.07</td>\n",
       "      <td>0.00</td>\n",
       "      <td>0.01</td>\n",
       "      <td>NaN</td>\n",
       "      <td>NaN</td>\n",
       "      <td>NaN</td>\n",
       "    </tr>\n",
       "    <tr>\n",
       "      <th>...</th>\n",
       "      <td>...</td>\n",
       "      <td>...</td>\n",
       "      <td>...</td>\n",
       "      <td>...</td>\n",
       "      <td>...</td>\n",
       "      <td>...</td>\n",
       "      <td>...</td>\n",
       "      <td>...</td>\n",
       "      <td>...</td>\n",
       "      <td>...</td>\n",
       "      <td>...</td>\n",
       "    </tr>\n",
       "    <tr>\n",
       "      <th>16059</th>\n",
       "      <td>Dance! It's Your Stage</td>\n",
       "      <td>Wii</td>\n",
       "      <td>NaN</td>\n",
       "      <td>Misc</td>\n",
       "      <td>0.00</td>\n",
       "      <td>0.01</td>\n",
       "      <td>0.00</td>\n",
       "      <td>0.00</td>\n",
       "      <td>NaN</td>\n",
       "      <td>NaN</td>\n",
       "      <td>NaN</td>\n",
       "    </tr>\n",
       "    <tr>\n",
       "      <th>16079</th>\n",
       "      <td>Football Manager 2007</td>\n",
       "      <td>X360</td>\n",
       "      <td>NaN</td>\n",
       "      <td>Sports</td>\n",
       "      <td>0.00</td>\n",
       "      <td>0.01</td>\n",
       "      <td>0.00</td>\n",
       "      <td>0.00</td>\n",
       "      <td>NaN</td>\n",
       "      <td>NaN</td>\n",
       "      <td>NaN</td>\n",
       "    </tr>\n",
       "    <tr>\n",
       "      <th>16293</th>\n",
       "      <td>AKB1/48: Idol to Guam de Koishitara...</td>\n",
       "      <td>X360</td>\n",
       "      <td>NaN</td>\n",
       "      <td>Misc</td>\n",
       "      <td>0.00</td>\n",
       "      <td>0.00</td>\n",
       "      <td>0.01</td>\n",
       "      <td>0.00</td>\n",
       "      <td>NaN</td>\n",
       "      <td>NaN</td>\n",
       "      <td>NaN</td>\n",
       "    </tr>\n",
       "    <tr>\n",
       "      <th>16348</th>\n",
       "      <td>Agarest Senki: Re-appearance</td>\n",
       "      <td>PS3</td>\n",
       "      <td>NaN</td>\n",
       "      <td>Role-Playing</td>\n",
       "      <td>0.00</td>\n",
       "      <td>0.00</td>\n",
       "      <td>0.01</td>\n",
       "      <td>0.00</td>\n",
       "      <td>NaN</td>\n",
       "      <td>NaN</td>\n",
       "      <td>NaN</td>\n",
       "    </tr>\n",
       "    <tr>\n",
       "      <th>16458</th>\n",
       "      <td>Hakuouki: Shinsengumi Kitan</td>\n",
       "      <td>PS3</td>\n",
       "      <td>NaN</td>\n",
       "      <td>Adventure</td>\n",
       "      <td>0.01</td>\n",
       "      <td>0.00</td>\n",
       "      <td>0.00</td>\n",
       "      <td>0.00</td>\n",
       "      <td>NaN</td>\n",
       "      <td>NaN</td>\n",
       "      <td>NaN</td>\n",
       "    </tr>\n",
       "  </tbody>\n",
       "</table>\n",
       "<p>85 rows × 11 columns</p>\n",
       "</div>"
      ],
      "text/plain": [
       "                                         name platform  year_of_release  \\\n",
       "475                wwe Smackdown vs. Raw 2006      PS2              NaN   \n",
       "609                            Space Invaders     2600              NaN   \n",
       "1301                           Triple Play 99       PS              NaN   \n",
       "1506                                Adventure     2600              NaN   \n",
       "1585                                   Combat     2600              NaN   \n",
       "...                                       ...      ...              ...   \n",
       "16059                  Dance! It's Your Stage      Wii              NaN   \n",
       "16079                   Football Manager 2007     X360              NaN   \n",
       "16293  AKB1/48: Idol to Guam de Koishitara...     X360              NaN   \n",
       "16348            Agarest Senki: Re-appearance      PS3              NaN   \n",
       "16458             Hakuouki: Shinsengumi Kitan      PS3              NaN   \n",
       "\n",
       "              genre  na_sales  eu_sales  jp_sales  other_sales  critic_score  \\\n",
       "475        Fighting      1.57      1.02      0.00         0.41           NaN   \n",
       "609         Shooter      2.36      0.14      0.00         0.03           NaN   \n",
       "1301         Sports      0.81      0.55      0.00         0.10           NaN   \n",
       "1506      Adventure      1.21      0.08      0.00         0.01           NaN   \n",
       "1585         Action      1.17      0.07      0.00         0.01           NaN   \n",
       "...             ...       ...       ...       ...          ...           ...   \n",
       "16059          Misc      0.00      0.01      0.00         0.00           NaN   \n",
       "16079        Sports      0.00      0.01      0.00         0.00           NaN   \n",
       "16293          Misc      0.00      0.00      0.01         0.00           NaN   \n",
       "16348  Role-Playing      0.00      0.00      0.01         0.00           NaN   \n",
       "16458     Adventure      0.01      0.00      0.00         0.00           NaN   \n",
       "\n",
       "      user_score rating  \n",
       "475          NaN    NaN  \n",
       "609          NaN    NaN  \n",
       "1301         NaN    NaN  \n",
       "1506         NaN    NaN  \n",
       "1585         NaN    NaN  \n",
       "...          ...    ...  \n",
       "16059        NaN    NaN  \n",
       "16079        NaN    NaN  \n",
       "16293        NaN    NaN  \n",
       "16348        NaN    NaN  \n",
       "16458        NaN    NaN  \n",
       "\n",
       "[85 rows x 11 columns]"
      ]
     },
     "metadata": {},
     "output_type": "display_data"
    }
   ],
   "source": [
    "# Buscamos NaN en las columna name y genre a la vez\n",
    "display(data.query('name.isna() and genre.isna()'))\n",
    "\n",
    "# Buscamos NaN en las 4 columnas year_of_release, critic_score, user_score y rating a la vez\n",
    "display(data.query('year_of_release.isna() and critic_score.isna() and user_score.isna() and rating.isna() '))"
   ]
  },
  {
   "cell_type": "markdown",
   "id": "375eb078",
   "metadata": {},
   "source": [
    "Hemos encontramos 2 registros con valores ausentes en 5 columnas a la vez, y 85 registros con valores ausentes en 4 columnas a la vez, es claro que falta información importante en estos registros; por esta razón y ya que solo representa mínimamente el 0.5% de los datos, decidimos que eliminaremos estos 87 registros, a continuación:"
   ]
  },
  {
   "cell_type": "code",
   "execution_count": 10,
   "id": "a0cd755a",
   "metadata": {
    "ExecuteTime": {
     "end_time": "2023-01-16T03:21:37.338568Z",
     "start_time": "2023-01-16T03:21:37.322642Z"
    }
   },
   "outputs": [],
   "source": [
    "# Guardamos los indices a borrar\n",
    "index_to_drop_1 = data.query('name.isna() and genre.isna()').index\n",
    "index_to_drop_2 = data.query(\n",
    "    'critic_score.isna() and user_score.isna() and rating.isna() and year_of_release.isna()').index"
   ]
  },
  {
   "cell_type": "code",
   "execution_count": 11,
   "id": "81338304",
   "metadata": {
    "ExecuteTime": {
     "end_time": "2023-01-16T03:21:37.354506Z",
     "start_time": "2023-01-16T03:21:37.340538Z"
    }
   },
   "outputs": [],
   "source": [
    "# Eliminamos los registros guardados en los indices indices\n",
    "data.drop(index_to_drop_1, axis=0, inplace=True)\n",
    "data.drop(index_to_drop_2, axis=0, inplace=True)\n",
    "data.reset_index(drop=True, inplace=True)"
   ]
  },
  {
   "cell_type": "code",
   "execution_count": 12,
   "id": "337e88f9",
   "metadata": {
    "ExecuteTime": {
     "end_time": "2023-01-16T03:21:37.369975Z",
     "start_time": "2023-01-16T03:21:37.357494Z"
    }
   },
   "outputs": [
    {
     "name": "stdout",
     "output_type": "stream",
     "text": [
      "0\n",
      "0\n"
     ]
    }
   ],
   "source": [
    "# Comprobar que se eliminaron las 2 filas con NaN\n",
    "print(len(data.query('name.isna() and genre.isna()')))\n",
    "\n",
    "# Comprobar que se eliminaron las 85 filas con NaN\n",
    "print(len(data.query('critic_score.isna() and user_score.isna() and rating.isna() and year_of_release.isna()')))"
   ]
  },
  {
   "cell_type": "code",
   "execution_count": 13,
   "id": "62827c5e",
   "metadata": {
    "ExecuteTime": {
     "end_time": "2023-01-16T03:21:37.395900Z",
     "start_time": "2023-01-16T03:21:37.370974Z"
    }
   },
   "outputs": [
    {
     "data": {
      "text/plain": [
       "name                  0\n",
       "platform              0\n",
       "year_of_release     184\n",
       "genre                 0\n",
       "na_sales              0\n",
       "eu_sales              0\n",
       "jp_sales              0\n",
       "other_sales           0\n",
       "critic_score       8491\n",
       "user_score         6614\n",
       "rating             6679\n",
       "dtype: int64"
      ]
     },
     "execution_count": 13,
     "metadata": {},
     "output_type": "execute_result"
    }
   ],
   "source": [
    "data.isna().sum()"
   ]
  },
  {
   "cell_type": "code",
   "execution_count": 14,
   "id": "f0e835a1",
   "metadata": {
    "ExecuteTime": {
     "end_time": "2023-01-16T03:21:37.411858Z",
     "start_time": "2023-01-16T03:21:37.396898Z"
    }
   },
   "outputs": [
    {
     "data": {
      "text/plain": [
       "16628"
      ]
     },
     "execution_count": 14,
     "metadata": {},
     "output_type": "execute_result"
    }
   ],
   "source": [
    "len(data)"
   ]
  },
  {
   "cell_type": "markdown",
   "id": "b4c402f3",
   "metadata": {},
   "source": [
    "Total de registros 16628 después de depurar los 87 registros, ahora vamos a realizar tratamiento al resto de NaN. \n",
    "\n",
    "**En la columna `year_of_release`** tenemos 184 registros con NaN.\n"
   ]
  },
  {
   "cell_type": "markdown",
   "id": "5c934b47",
   "metadata": {},
   "source": [
    "Ahora guardamos los nombres y plataformas de los 184 registros que no tienen año en la variable year_nan."
   ]
  },
  {
   "cell_type": "code",
   "execution_count": 15,
   "id": "b6b11140",
   "metadata": {
    "ExecuteTime": {
     "end_time": "2023-01-16T03:21:37.427224Z",
     "start_time": "2023-01-16T03:21:37.413141Z"
    }
   },
   "outputs": [],
   "source": [
    "# Guardamos los registros donde year_of_release es igual a NaN para posteriores comprobaciones\n",
    "year_nan = data.query('year_of_release.isna()')"
   ]
  },
  {
   "cell_type": "code",
   "execution_count": 16,
   "id": "68ddfb4a",
   "metadata": {
    "ExecuteTime": {
     "end_time": "2023-01-16T03:21:37.443190Z",
     "start_time": "2023-01-16T03:21:37.428221Z"
    }
   },
   "outputs": [
    {
     "data": {
      "text/plain": [
       "2008.0    1427\n",
       "2009.0    1426\n",
       "2010.0    1255\n",
       "2007.0    1197\n",
       "2011.0    1136\n",
       "2006.0    1006\n",
       "2005.0     939\n",
       "2002.0     829\n",
       "2003.0     775\n",
       "2004.0     762\n",
       "2012.0     653\n",
       "2015.0     606\n",
       "2014.0     581\n",
       "2013.0     544\n",
       "2016.0     502\n",
       "2001.0     482\n",
       "1998.0     379\n",
       "2000.0     350\n",
       "1999.0     338\n",
       "1997.0     289\n",
       "1996.0     263\n",
       "1995.0     219\n",
       "NaN        184\n",
       "1994.0     121\n",
       "1993.0      60\n",
       "Name: year_of_release, dtype: int64"
      ]
     },
     "execution_count": 16,
     "metadata": {},
     "output_type": "execute_result"
    }
   ],
   "source": [
    "# Mostramos los juegos totales por año para luego comparar \n",
    "data.year_of_release.value_counts(dropna=False).head(25)"
   ]
  },
  {
   "cell_type": "code",
   "execution_count": 17,
   "id": "04c86b04",
   "metadata": {
    "ExecuteTime": {
     "end_time": "2023-01-16T03:21:37.459151Z",
     "start_time": "2023-01-16T03:21:37.444180Z"
    }
   },
   "outputs": [],
   "source": [
    "# Función 'fill_na' para rellenar NaN en varias columnas con el valor más repetido en un agrupamiento\n",
    "\n",
    "def fill_na(x):\n",
    "    # st.mode devuelve un array con [moda, count], seleccionamos la moda [0]\n",
    "    x_nonan = x.dropna()\n",
    "    if not set(x_nonan):\n",
    "        return x\n",
    "    value = st.mode(x_nonan)[0][0]  \n",
    "    return x.fillna(value)\n",
    "     "
   ]
  },
  {
   "cell_type": "code",
   "execution_count": 18,
   "id": "a175051e",
   "metadata": {
    "ExecuteTime": {
     "end_time": "2023-01-16T03:21:37.463590Z",
     "start_time": "2023-01-16T03:21:37.460149Z"
    },
    "scrolled": true
   },
   "outputs": [],
   "source": [
    "# prueba\n",
    "#data.groupby('name')['year_of_release'].transform(fill_na).value_counts(dropna=False)"
   ]
  },
  {
   "cell_type": "code",
   "execution_count": 19,
   "id": "695f17bd",
   "metadata": {
    "ExecuteTime": {
     "end_time": "2023-01-16T03:21:41.084460Z",
     "start_time": "2023-01-16T03:21:37.464095Z"
    }
   },
   "outputs": [
    {
     "name": "stderr",
     "output_type": "stream",
     "text": [
      "C:\\Users\\angel\\AppData\\Local\\Temp\\ipykernel_6200\\2171016198.py:8: FutureWarning: Unlike other reduction functions (e.g. `skew`, `kurtosis`), the default behavior of `mode` typically preserves the axis it acts along. In SciPy 1.11.0, this behavior will change: the default value of `keepdims` will become False, the `axis` over which the statistic is taken will be eliminated, and the value None will no longer be accepted. Set `keepdims` to True or False to avoid this warning.\n",
      "  value = st.mode(x_nonan)[0][0]\n"
     ]
    }
   ],
   "source": [
    "# Rellenamos los NaN de acuerdo a la columna name, buscando el año del nombre del juego que más se repite usamos fill_na\n",
    "data['year_of_release'] = data.groupby('name')['year_of_release'].transform(fill_na)"
   ]
  },
  {
   "cell_type": "code",
   "execution_count": 20,
   "id": "24675d7a",
   "metadata": {
    "ExecuteTime": {
     "end_time": "2023-01-16T03:21:41.099726Z",
     "start_time": "2023-01-16T03:21:41.084460Z"
    }
   },
   "outputs": [
    {
     "data": {
      "text/plain": [
       "2008.0    1438\n",
       "2009.0    1429\n",
       "2010.0    1267\n",
       "2007.0    1202\n",
       "2011.0    1146\n",
       "2006.0    1018\n",
       "2005.0     948\n",
       "2002.0     844\n",
       "2003.0     783\n",
       "2004.0     763\n",
       "2012.0     662\n",
       "2015.0     606\n",
       "2014.0     581\n",
       "2013.0     547\n",
       "2016.0     502\n",
       "2001.0     486\n",
       "1998.0     379\n",
       "2000.0     350\n",
       "1999.0     338\n",
       "1997.0     289\n",
       "1996.0     263\n",
       "1995.0     219\n",
       "1994.0     121\n",
       "NaN         82\n",
       "1993.0      60\n",
       "Name: year_of_release, dtype: int64"
      ]
     },
     "execution_count": 20,
     "metadata": {},
     "output_type": "execute_result"
    }
   ],
   "source": [
    "data.year_of_release.value_counts(dropna=False).head(25)"
   ]
  },
  {
   "cell_type": "code",
   "execution_count": 21,
   "id": "06f3403b",
   "metadata": {
    "ExecuteTime": {
     "end_time": "2023-01-16T03:21:41.131357Z",
     "start_time": "2023-01-16T03:21:41.100816Z"
    }
   },
   "outputs": [
    {
     "data": {
      "text/plain": [
       "name                  0\n",
       "platform              0\n",
       "year_of_release      82\n",
       "genre                 0\n",
       "na_sales              0\n",
       "eu_sales              0\n",
       "jp_sales              0\n",
       "other_sales           0\n",
       "critic_score       8491\n",
       "user_score         6614\n",
       "rating             6679\n",
       "dtype: int64"
      ]
     },
     "execution_count": 21,
     "metadata": {},
     "output_type": "execute_result"
    }
   ],
   "source": [
    "data.isna().sum()"
   ]
  },
  {
   "cell_type": "markdown",
   "id": "44ab3e7a",
   "metadata": {},
   "source": [
    "Como observamos los NaN en la columna `year_of_release` han disminuido de 184 a 82 NaN."
   ]
  },
  {
   "cell_type": "markdown",
   "id": "a00b6f07",
   "metadata": {},
   "source": [
    "**NaN de la columna `rating`**\n",
    "\n",
    "A continuación trataremos los NaN en la columna rating, en esta columna tenemos 6679 NaN. El rating nos indica la clasificación determinada para el juego. Vamos a realizar el imputamiento de acuerdo al nombre del juego. Para esto disminuiremos el total de juegos, y crearemos una columna llamada short_name que recortará el nombre cuando encuentre el simbolo dos puntos \":\"."
   ]
  },
  {
   "cell_type": "code",
   "execution_count": 22,
   "id": "8947b70d",
   "metadata": {
    "ExecuteTime": {
     "end_time": "2023-01-16T03:21:41.166781Z",
     "start_time": "2023-01-16T03:21:41.133374Z"
    },
    "scrolled": true
   },
   "outputs": [
    {
     "data": {
      "text/html": [
       "<div>\n",
       "<style scoped>\n",
       "    .dataframe tbody tr th:only-of-type {\n",
       "        vertical-align: middle;\n",
       "    }\n",
       "\n",
       "    .dataframe tbody tr th {\n",
       "        vertical-align: top;\n",
       "    }\n",
       "\n",
       "    .dataframe thead th {\n",
       "        text-align: right;\n",
       "    }\n",
       "</style>\n",
       "<table border=\"1\" class=\"dataframe\">\n",
       "  <thead>\n",
       "    <tr style=\"text-align: right;\">\n",
       "      <th></th>\n",
       "      <th>name</th>\n",
       "      <th>platform</th>\n",
       "      <th>year_of_release</th>\n",
       "      <th>genre</th>\n",
       "      <th>na_sales</th>\n",
       "      <th>eu_sales</th>\n",
       "      <th>jp_sales</th>\n",
       "      <th>other_sales</th>\n",
       "      <th>critic_score</th>\n",
       "      <th>user_score</th>\n",
       "      <th>rating</th>\n",
       "    </tr>\n",
       "  </thead>\n",
       "  <tbody>\n",
       "    <tr>\n",
       "      <th>12594</th>\n",
       "      <td>pro evolution soccer 2011</td>\n",
       "      <td>PC</td>\n",
       "      <td>2010.0</td>\n",
       "      <td>Sports</td>\n",
       "      <td>0.00</td>\n",
       "      <td>0.05</td>\n",
       "      <td>0.00</td>\n",
       "      <td>0.01</td>\n",
       "      <td>79.0</td>\n",
       "      <td>NaN</td>\n",
       "      <td>NaN</td>\n",
       "    </tr>\n",
       "    <tr>\n",
       "      <th>4647</th>\n",
       "      <td>pro evolution soccer 2011</td>\n",
       "      <td>PS2</td>\n",
       "      <td>2010.0</td>\n",
       "      <td>Sports</td>\n",
       "      <td>0.04</td>\n",
       "      <td>0.21</td>\n",
       "      <td>0.05</td>\n",
       "      <td>0.11</td>\n",
       "      <td>NaN</td>\n",
       "      <td>6.7</td>\n",
       "      <td>E</td>\n",
       "    </tr>\n",
       "    <tr>\n",
       "      <th>16424</th>\n",
       "      <td>th!nk Logic Trainer</td>\n",
       "      <td>Wii</td>\n",
       "      <td>2009.0</td>\n",
       "      <td>Puzzle</td>\n",
       "      <td>0.01</td>\n",
       "      <td>0.00</td>\n",
       "      <td>0.00</td>\n",
       "      <td>0.00</td>\n",
       "      <td>NaN</td>\n",
       "      <td>NaN</td>\n",
       "      <td>NaN</td>\n",
       "    </tr>\n",
       "    <tr>\n",
       "      <th>10797</th>\n",
       "      <td>thinkSMART</td>\n",
       "      <td>DS</td>\n",
       "      <td>2010.0</td>\n",
       "      <td>Misc</td>\n",
       "      <td>0.09</td>\n",
       "      <td>0.00</td>\n",
       "      <td>0.00</td>\n",
       "      <td>0.01</td>\n",
       "      <td>NaN</td>\n",
       "      <td>tbd</td>\n",
       "      <td>E</td>\n",
       "    </tr>\n",
       "    <tr>\n",
       "      <th>14386</th>\n",
       "      <td>thinkSMART FAMILY!</td>\n",
       "      <td>Wii</td>\n",
       "      <td>2010.0</td>\n",
       "      <td>Misc</td>\n",
       "      <td>0.03</td>\n",
       "      <td>0.00</td>\n",
       "      <td>0.00</td>\n",
       "      <td>0.00</td>\n",
       "      <td>NaN</td>\n",
       "      <td>tbd</td>\n",
       "      <td>E</td>\n",
       "    </tr>\n",
       "    <tr>\n",
       "      <th>16407</th>\n",
       "      <td>thinkSMART: Chess for Kids</td>\n",
       "      <td>DS</td>\n",
       "      <td>2011.0</td>\n",
       "      <td>Misc</td>\n",
       "      <td>0.01</td>\n",
       "      <td>0.00</td>\n",
       "      <td>0.00</td>\n",
       "      <td>0.00</td>\n",
       "      <td>NaN</td>\n",
       "      <td>tbd</td>\n",
       "      <td>E</td>\n",
       "    </tr>\n",
       "    <tr>\n",
       "      <th>643</th>\n",
       "      <td>uDraw Studio</td>\n",
       "      <td>Wii</td>\n",
       "      <td>2010.0</td>\n",
       "      <td>Misc</td>\n",
       "      <td>1.65</td>\n",
       "      <td>0.57</td>\n",
       "      <td>0.00</td>\n",
       "      <td>0.20</td>\n",
       "      <td>71.0</td>\n",
       "      <td>tbd</td>\n",
       "      <td>E</td>\n",
       "    </tr>\n",
       "    <tr>\n",
       "      <th>15535</th>\n",
       "      <td>uDraw Studio: Instant Artist</td>\n",
       "      <td>X360</td>\n",
       "      <td>2011.0</td>\n",
       "      <td>Misc</td>\n",
       "      <td>0.01</td>\n",
       "      <td>0.01</td>\n",
       "      <td>0.00</td>\n",
       "      <td>0.00</td>\n",
       "      <td>54.0</td>\n",
       "      <td>5.7</td>\n",
       "      <td>E</td>\n",
       "    </tr>\n",
       "    <tr>\n",
       "      <th>8246</th>\n",
       "      <td>uDraw Studio: Instant Artist</td>\n",
       "      <td>Wii</td>\n",
       "      <td>2011.0</td>\n",
       "      <td>Misc</td>\n",
       "      <td>0.06</td>\n",
       "      <td>0.09</td>\n",
       "      <td>0.00</td>\n",
       "      <td>0.02</td>\n",
       "      <td>NaN</td>\n",
       "      <td>tbd</td>\n",
       "      <td>E</td>\n",
       "    </tr>\n",
       "    <tr>\n",
       "      <th>9097</th>\n",
       "      <td>¡Shin Chan Flipa en colores!</td>\n",
       "      <td>DS</td>\n",
       "      <td>2007.0</td>\n",
       "      <td>Platform</td>\n",
       "      <td>0.00</td>\n",
       "      <td>0.00</td>\n",
       "      <td>0.14</td>\n",
       "      <td>0.00</td>\n",
       "      <td>NaN</td>\n",
       "      <td>NaN</td>\n",
       "      <td>NaN</td>\n",
       "    </tr>\n",
       "  </tbody>\n",
       "</table>\n",
       "</div>"
      ],
      "text/plain": [
       "                               name platform  year_of_release     genre  \\\n",
       "12594     pro evolution soccer 2011       PC           2010.0    Sports   \n",
       "4647      pro evolution soccer 2011      PS2           2010.0    Sports   \n",
       "16424           th!nk Logic Trainer      Wii           2009.0    Puzzle   \n",
       "10797                    thinkSMART       DS           2010.0      Misc   \n",
       "14386            thinkSMART FAMILY!      Wii           2010.0      Misc   \n",
       "16407    thinkSMART: Chess for Kids       DS           2011.0      Misc   \n",
       "643                    uDraw Studio      Wii           2010.0      Misc   \n",
       "15535  uDraw Studio: Instant Artist     X360           2011.0      Misc   \n",
       "8246   uDraw Studio: Instant Artist      Wii           2011.0      Misc   \n",
       "9097   ¡Shin Chan Flipa en colores!       DS           2007.0  Platform   \n",
       "\n",
       "       na_sales  eu_sales  jp_sales  other_sales  critic_score user_score  \\\n",
       "12594      0.00      0.05      0.00         0.01          79.0        NaN   \n",
       "4647       0.04      0.21      0.05         0.11           NaN        6.7   \n",
       "16424      0.01      0.00      0.00         0.00           NaN        NaN   \n",
       "10797      0.09      0.00      0.00         0.01           NaN        tbd   \n",
       "14386      0.03      0.00      0.00         0.00           NaN        tbd   \n",
       "16407      0.01      0.00      0.00         0.00           NaN        tbd   \n",
       "643        1.65      0.57      0.00         0.20          71.0        tbd   \n",
       "15535      0.01      0.01      0.00         0.00          54.0        5.7   \n",
       "8246       0.06      0.09      0.00         0.02           NaN        tbd   \n",
       "9097       0.00      0.00      0.14         0.00           NaN        NaN   \n",
       "\n",
       "      rating  \n",
       "12594    NaN  \n",
       "4647       E  \n",
       "16424    NaN  \n",
       "10797      E  \n",
       "14386      E  \n",
       "16407      E  \n",
       "643        E  \n",
       "15535      E  \n",
       "8246       E  \n",
       "9097     NaN  "
      ]
     },
     "execution_count": 22,
     "metadata": {},
     "output_type": "execute_result"
    }
   ],
   "source": [
    "data.sort_values(by='name').tail(10)"
   ]
  },
  {
   "cell_type": "code",
   "execution_count": 23,
   "id": "a0fef3ef",
   "metadata": {
    "ExecuteTime": {
     "end_time": "2023-01-16T03:21:41.202688Z",
     "start_time": "2023-01-16T03:21:41.169240Z"
    }
   },
   "outputs": [],
   "source": [
    "# Insertar nueva columna 'short_name' en la 2da posicion\n",
    "data.insert(1, 'short_name', data['name'].str.split(':').str.get(0) )"
   ]
  },
  {
   "cell_type": "code",
   "execution_count": 24,
   "id": "7311b82d",
   "metadata": {
    "ExecuteTime": {
     "end_time": "2023-01-16T03:21:41.233829Z",
     "start_time": "2023-01-16T03:21:41.203336Z"
    }
   },
   "outputs": [
    {
     "data": {
      "text/html": [
       "<div>\n",
       "<style scoped>\n",
       "    .dataframe tbody tr th:only-of-type {\n",
       "        vertical-align: middle;\n",
       "    }\n",
       "\n",
       "    .dataframe tbody tr th {\n",
       "        vertical-align: top;\n",
       "    }\n",
       "\n",
       "    .dataframe thead th {\n",
       "        text-align: right;\n",
       "    }\n",
       "</style>\n",
       "<table border=\"1\" class=\"dataframe\">\n",
       "  <thead>\n",
       "    <tr style=\"text-align: right;\">\n",
       "      <th></th>\n",
       "      <th>name</th>\n",
       "      <th>short_name</th>\n",
       "      <th>platform</th>\n",
       "      <th>year_of_release</th>\n",
       "      <th>genre</th>\n",
       "      <th>na_sales</th>\n",
       "      <th>eu_sales</th>\n",
       "      <th>jp_sales</th>\n",
       "      <th>other_sales</th>\n",
       "      <th>critic_score</th>\n",
       "      <th>user_score</th>\n",
       "      <th>rating</th>\n",
       "    </tr>\n",
       "  </thead>\n",
       "  <tbody>\n",
       "    <tr>\n",
       "      <th>0</th>\n",
       "      <td>Wii Sports</td>\n",
       "      <td>Wii Sports</td>\n",
       "      <td>Wii</td>\n",
       "      <td>2006.0</td>\n",
       "      <td>Sports</td>\n",
       "      <td>41.36</td>\n",
       "      <td>28.96</td>\n",
       "      <td>3.77</td>\n",
       "      <td>8.45</td>\n",
       "      <td>76.0</td>\n",
       "      <td>8</td>\n",
       "      <td>E</td>\n",
       "    </tr>\n",
       "    <tr>\n",
       "      <th>1</th>\n",
       "      <td>Super Mario Bros.</td>\n",
       "      <td>Super Mario Bros.</td>\n",
       "      <td>NES</td>\n",
       "      <td>1985.0</td>\n",
       "      <td>Platform</td>\n",
       "      <td>29.08</td>\n",
       "      <td>3.58</td>\n",
       "      <td>6.81</td>\n",
       "      <td>0.77</td>\n",
       "      <td>NaN</td>\n",
       "      <td>NaN</td>\n",
       "      <td>NaN</td>\n",
       "    </tr>\n",
       "    <tr>\n",
       "      <th>2</th>\n",
       "      <td>Mario Kart Wii</td>\n",
       "      <td>Mario Kart Wii</td>\n",
       "      <td>Wii</td>\n",
       "      <td>2008.0</td>\n",
       "      <td>Racing</td>\n",
       "      <td>15.68</td>\n",
       "      <td>12.76</td>\n",
       "      <td>3.79</td>\n",
       "      <td>3.29</td>\n",
       "      <td>82.0</td>\n",
       "      <td>8.3</td>\n",
       "      <td>E</td>\n",
       "    </tr>\n",
       "    <tr>\n",
       "      <th>3</th>\n",
       "      <td>Wii Sports Resort</td>\n",
       "      <td>Wii Sports Resort</td>\n",
       "      <td>Wii</td>\n",
       "      <td>2009.0</td>\n",
       "      <td>Sports</td>\n",
       "      <td>15.61</td>\n",
       "      <td>10.93</td>\n",
       "      <td>3.28</td>\n",
       "      <td>2.95</td>\n",
       "      <td>80.0</td>\n",
       "      <td>8</td>\n",
       "      <td>E</td>\n",
       "    </tr>\n",
       "    <tr>\n",
       "      <th>4</th>\n",
       "      <td>Pokemon Red/Pokemon Blue</td>\n",
       "      <td>Pokemon Red/Pokemon Blue</td>\n",
       "      <td>GB</td>\n",
       "      <td>1996.0</td>\n",
       "      <td>Role-Playing</td>\n",
       "      <td>11.27</td>\n",
       "      <td>8.89</td>\n",
       "      <td>10.22</td>\n",
       "      <td>1.00</td>\n",
       "      <td>NaN</td>\n",
       "      <td>NaN</td>\n",
       "      <td>NaN</td>\n",
       "    </tr>\n",
       "    <tr>\n",
       "      <th>...</th>\n",
       "      <td>...</td>\n",
       "      <td>...</td>\n",
       "      <td>...</td>\n",
       "      <td>...</td>\n",
       "      <td>...</td>\n",
       "      <td>...</td>\n",
       "      <td>...</td>\n",
       "      <td>...</td>\n",
       "      <td>...</td>\n",
       "      <td>...</td>\n",
       "      <td>...</td>\n",
       "      <td>...</td>\n",
       "    </tr>\n",
       "    <tr>\n",
       "      <th>16623</th>\n",
       "      <td>Samurai Warriors: Sanada Maru</td>\n",
       "      <td>Samurai Warriors</td>\n",
       "      <td>PS3</td>\n",
       "      <td>2016.0</td>\n",
       "      <td>Action</td>\n",
       "      <td>0.00</td>\n",
       "      <td>0.00</td>\n",
       "      <td>0.01</td>\n",
       "      <td>0.00</td>\n",
       "      <td>NaN</td>\n",
       "      <td>NaN</td>\n",
       "      <td>NaN</td>\n",
       "    </tr>\n",
       "    <tr>\n",
       "      <th>16624</th>\n",
       "      <td>LMA Manager 2007</td>\n",
       "      <td>LMA Manager 2007</td>\n",
       "      <td>X360</td>\n",
       "      <td>2006.0</td>\n",
       "      <td>Sports</td>\n",
       "      <td>0.00</td>\n",
       "      <td>0.01</td>\n",
       "      <td>0.00</td>\n",
       "      <td>0.00</td>\n",
       "      <td>NaN</td>\n",
       "      <td>NaN</td>\n",
       "      <td>NaN</td>\n",
       "    </tr>\n",
       "    <tr>\n",
       "      <th>16625</th>\n",
       "      <td>Haitaka no Psychedelica</td>\n",
       "      <td>Haitaka no Psychedelica</td>\n",
       "      <td>PSV</td>\n",
       "      <td>2016.0</td>\n",
       "      <td>Adventure</td>\n",
       "      <td>0.00</td>\n",
       "      <td>0.00</td>\n",
       "      <td>0.01</td>\n",
       "      <td>0.00</td>\n",
       "      <td>NaN</td>\n",
       "      <td>NaN</td>\n",
       "      <td>NaN</td>\n",
       "    </tr>\n",
       "    <tr>\n",
       "      <th>16626</th>\n",
       "      <td>Spirits &amp; Spells</td>\n",
       "      <td>Spirits &amp; Spells</td>\n",
       "      <td>GBA</td>\n",
       "      <td>2003.0</td>\n",
       "      <td>Platform</td>\n",
       "      <td>0.01</td>\n",
       "      <td>0.00</td>\n",
       "      <td>0.00</td>\n",
       "      <td>0.00</td>\n",
       "      <td>NaN</td>\n",
       "      <td>NaN</td>\n",
       "      <td>NaN</td>\n",
       "    </tr>\n",
       "    <tr>\n",
       "      <th>16627</th>\n",
       "      <td>Winning Post 8 2016</td>\n",
       "      <td>Winning Post 8 2016</td>\n",
       "      <td>PSV</td>\n",
       "      <td>2016.0</td>\n",
       "      <td>Simulation</td>\n",
       "      <td>0.00</td>\n",
       "      <td>0.00</td>\n",
       "      <td>0.01</td>\n",
       "      <td>0.00</td>\n",
       "      <td>NaN</td>\n",
       "      <td>NaN</td>\n",
       "      <td>NaN</td>\n",
       "    </tr>\n",
       "  </tbody>\n",
       "</table>\n",
       "<p>16628 rows × 12 columns</p>\n",
       "</div>"
      ],
      "text/plain": [
       "                                name                short_name platform  \\\n",
       "0                         Wii Sports                Wii Sports      Wii   \n",
       "1                  Super Mario Bros.         Super Mario Bros.      NES   \n",
       "2                     Mario Kart Wii            Mario Kart Wii      Wii   \n",
       "3                  Wii Sports Resort         Wii Sports Resort      Wii   \n",
       "4           Pokemon Red/Pokemon Blue  Pokemon Red/Pokemon Blue       GB   \n",
       "...                              ...                       ...      ...   \n",
       "16623  Samurai Warriors: Sanada Maru          Samurai Warriors      PS3   \n",
       "16624               LMA Manager 2007          LMA Manager 2007     X360   \n",
       "16625        Haitaka no Psychedelica   Haitaka no Psychedelica      PSV   \n",
       "16626               Spirits & Spells          Spirits & Spells      GBA   \n",
       "16627            Winning Post 8 2016       Winning Post 8 2016      PSV   \n",
       "\n",
       "       year_of_release         genre  na_sales  eu_sales  jp_sales  \\\n",
       "0               2006.0        Sports     41.36     28.96      3.77   \n",
       "1               1985.0      Platform     29.08      3.58      6.81   \n",
       "2               2008.0        Racing     15.68     12.76      3.79   \n",
       "3               2009.0        Sports     15.61     10.93      3.28   \n",
       "4               1996.0  Role-Playing     11.27      8.89     10.22   \n",
       "...                ...           ...       ...       ...       ...   \n",
       "16623           2016.0        Action      0.00      0.00      0.01   \n",
       "16624           2006.0        Sports      0.00      0.01      0.00   \n",
       "16625           2016.0     Adventure      0.00      0.00      0.01   \n",
       "16626           2003.0      Platform      0.01      0.00      0.00   \n",
       "16627           2016.0    Simulation      0.00      0.00      0.01   \n",
       "\n",
       "       other_sales  critic_score user_score rating  \n",
       "0             8.45          76.0          8      E  \n",
       "1             0.77           NaN        NaN    NaN  \n",
       "2             3.29          82.0        8.3      E  \n",
       "3             2.95          80.0          8      E  \n",
       "4             1.00           NaN        NaN    NaN  \n",
       "...            ...           ...        ...    ...  \n",
       "16623         0.00           NaN        NaN    NaN  \n",
       "16624         0.00           NaN        NaN    NaN  \n",
       "16625         0.00           NaN        NaN    NaN  \n",
       "16626         0.00           NaN        NaN    NaN  \n",
       "16627         0.00           NaN        NaN    NaN  \n",
       "\n",
       "[16628 rows x 12 columns]"
      ]
     },
     "execution_count": 24,
     "metadata": {},
     "output_type": "execute_result"
    }
   ],
   "source": [
    "data"
   ]
  },
  {
   "cell_type": "code",
   "execution_count": 25,
   "id": "527feedb",
   "metadata": {
    "ExecuteTime": {
     "end_time": "2023-01-16T03:21:41.257244Z",
     "start_time": "2023-01-16T03:21:41.234817Z"
    }
   },
   "outputs": [
    {
     "name": "stdout",
     "output_type": "stream",
     "text": [
      "en name  11495 , en short_name 9282\n"
     ]
    }
   ],
   "source": [
    "print('en name ', len(data.name.unique()), ', en short_name', len(data.short_name.unique()))"
   ]
  },
  {
   "cell_type": "code",
   "execution_count": 26,
   "id": "03ddbf07",
   "metadata": {
    "ExecuteTime": {
     "end_time": "2023-01-16T03:21:41.272713Z",
     "start_time": "2023-01-16T03:21:41.258279Z"
    }
   },
   "outputs": [
    {
     "data": {
      "text/plain": [
       "16407      thinkSMART: Chess for Kids\n",
       "643                      uDraw Studio\n",
       "15535    uDraw Studio: Instant Artist\n",
       "8246     uDraw Studio: Instant Artist\n",
       "9097     ¡Shin Chan Flipa en colores!\n",
       "Name: name, dtype: object"
      ]
     },
     "execution_count": 26,
     "metadata": {},
     "output_type": "execute_result"
    }
   ],
   "source": [
    "data.name.sort_values().tail()"
   ]
  },
  {
   "cell_type": "code",
   "execution_count": 27,
   "id": "0c64d69b",
   "metadata": {
    "ExecuteTime": {
     "end_time": "2023-01-16T03:21:41.302258Z",
     "start_time": "2023-01-16T03:21:41.273711Z"
    }
   },
   "outputs": [
    {
     "data": {
      "text/plain": [
       "14386              thinkSMART FAMILY!\n",
       "8246                     uDraw Studio\n",
       "643                      uDraw Studio\n",
       "15535                    uDraw Studio\n",
       "9097     ¡Shin Chan Flipa en colores!\n",
       "Name: short_name, dtype: object"
      ]
     },
     "execution_count": 27,
     "metadata": {},
     "output_type": "execute_result"
    }
   ],
   "source": [
    "data.short_name.sort_values().tail()"
   ]
  },
  {
   "cell_type": "markdown",
   "id": "61c9032e",
   "metadata": {},
   "source": [
    "Creamos la columna short_name, con el fin de tener menos nombres de juegos. En la columna name tenemos 11495 nombres diferentes, y en la nueva columna short_name tenemos 9282, mucho menos. \n",
    "\n",
    "A continuación vamos a usar short_name para rellenar NaN en rating condicionada al rating del short_name que corresponda."
   ]
  },
  {
   "cell_type": "code",
   "execution_count": 28,
   "id": "249acd61",
   "metadata": {
    "ExecuteTime": {
     "end_time": "2023-01-16T03:21:41.318214Z",
     "start_time": "2023-01-16T03:21:41.303255Z"
    },
    "scrolled": true
   },
   "outputs": [],
   "source": [
    "# Guardamos los registros donde rating es igual a NaN por si tenemos que comprobar más adelante los reemplazos\n",
    "rating_nan = data.query('rating.isna()')"
   ]
  },
  {
   "cell_type": "code",
   "execution_count": 29,
   "id": "2d2163b7",
   "metadata": {
    "ExecuteTime": {
     "end_time": "2023-01-16T03:21:41.333175Z",
     "start_time": "2023-01-16T03:21:41.319212Z"
    }
   },
   "outputs": [
    {
     "data": {
      "text/plain": [
       "NaN     6679\n",
       "E       3990\n",
       "T       2961\n",
       "M       1563\n",
       "E10+    1420\n",
       "EC         8\n",
       "K-A        3\n",
       "RP         3\n",
       "AO         1\n",
       "Name: rating, dtype: int64"
      ]
     },
     "execution_count": 29,
     "metadata": {},
     "output_type": "execute_result"
    }
   ],
   "source": [
    "data.rating.value_counts(dropna=False)"
   ]
  },
  {
   "cell_type": "code",
   "execution_count": 30,
   "id": "ec92d310",
   "metadata": {
    "ExecuteTime": {
     "end_time": "2023-01-16T03:21:43.802885Z",
     "start_time": "2023-01-16T03:21:41.340157Z"
    }
   },
   "outputs": [
    {
     "name": "stderr",
     "output_type": "stream",
     "text": [
      "C:\\Users\\angel\\AppData\\Local\\Temp\\ipykernel_6200\\2171016198.py:8: FutureWarning: Unlike other reduction functions (e.g. `skew`, `kurtosis`), the default behavior of `mode` typically preserves the axis it acts along. In SciPy 1.11.0, this behavior will change: the default value of `keepdims` will become False, the `axis` over which the statistic is taken will be eliminated, and the value None will no longer be accepted. Set `keepdims` to True or False to avoid this warning.\n",
      "  value = st.mode(x_nonan)[0][0]\n",
      "C:\\Users\\angel\\AppData\\Local\\Temp\\ipykernel_6200\\2171016198.py:8: DeprecationWarning: Support for non-numeric arrays has been deprecated as of SciPy 1.9.0 and will be removed in 1.11.0. `pandas.DataFrame.mode` can be used instead, see https://pandas.pydata.org/docs/reference/api/pandas.DataFrame.mode.html.\n",
      "  value = st.mode(x_nonan)[0][0]\n"
     ]
    }
   ],
   "source": [
    "# Rellenamos los NaN buscando llamamos a nuestra función fill_na\n",
    "data['rating'] = data.groupby('short_name')['rating'].transform(fill_na)"
   ]
  },
  {
   "cell_type": "code",
   "execution_count": 31,
   "id": "2afc5935",
   "metadata": {
    "ExecuteTime": {
     "end_time": "2023-01-16T03:21:43.831240Z",
     "start_time": "2023-01-16T03:21:43.802885Z"
    }
   },
   "outputs": [
    {
     "data": {
      "text/plain": [
       "NaN     5558\n",
       "E       4323\n",
       "T       3402\n",
       "M       1750\n",
       "E10+    1571\n",
       "EC        16\n",
       "K-A        4\n",
       "RP         3\n",
       "AO         1\n",
       "Name: rating, dtype: int64"
      ]
     },
     "execution_count": 31,
     "metadata": {},
     "output_type": "execute_result"
    }
   ],
   "source": [
    "data.rating.value_counts(dropna=False)"
   ]
  },
  {
   "cell_type": "code",
   "execution_count": 32,
   "id": "d6a6048a",
   "metadata": {
    "ExecuteTime": {
     "end_time": "2023-01-16T03:21:43.857422Z",
     "start_time": "2023-01-16T03:21:43.831240Z"
    }
   },
   "outputs": [
    {
     "data": {
      "text/plain": [
       "name                  0\n",
       "short_name            0\n",
       "platform              0\n",
       "year_of_release      82\n",
       "genre                 0\n",
       "na_sales              0\n",
       "eu_sales              0\n",
       "jp_sales              0\n",
       "other_sales           0\n",
       "critic_score       8491\n",
       "user_score         6614\n",
       "rating             5558\n",
       "dtype: int64"
      ]
     },
     "execution_count": 32,
     "metadata": {},
     "output_type": "execute_result"
    }
   ],
   "source": [
    "data.isna().sum()"
   ]
  },
  {
   "cell_type": "markdown",
   "id": "85ee52b5",
   "metadata": {
    "ExecuteTime": {
     "end_time": "2023-01-08T17:18:43.076374Z",
     "start_time": "2023-01-08T17:18:43.062349Z"
    }
   },
   "source": [
    "Los NaN de la columna rating han disminuido de 6679 a 5558, es decir 1121 valores ausentes \n",
    "fueron imputados de acuerdo al nombre del juego.\n",
    "\n",
    "Aún hay 5558 rating con NaN por lo que hemos decidido realizar un nuevo imputamiento a aquellos rating vacíos de acuerdo al rating de otros juegos básandose en el género y a la plataforma."
   ]
  },
  {
   "cell_type": "code",
   "execution_count": 33,
   "id": "ba3da4a5",
   "metadata": {
    "ExecuteTime": {
     "end_time": "2023-01-16T03:21:43.872911Z",
     "start_time": "2023-01-16T03:21:43.857422Z"
    }
   },
   "outputs": [
    {
     "data": {
      "text/plain": [
       "NaN     5558\n",
       "E       4323\n",
       "T       3402\n",
       "M       1750\n",
       "E10+    1571\n",
       "EC        16\n",
       "K-A        4\n",
       "RP         3\n",
       "AO         1\n",
       "Name: rating, dtype: int64"
      ]
     },
     "execution_count": 33,
     "metadata": {},
     "output_type": "execute_result"
    }
   ],
   "source": [
    "# Conteo de valores rating antes del imputamiento\n",
    "data['rating'].value_counts(dropna=False)"
   ]
  },
  {
   "cell_type": "code",
   "execution_count": 34,
   "id": "61e9087b",
   "metadata": {
    "ExecuteTime": {
     "end_time": "2023-01-16T03:21:43.880722Z",
     "start_time": "2023-01-16T03:21:43.875379Z"
    }
   },
   "outputs": [],
   "source": [
    "# Prueba\n",
    "#data.groupby(['genre'])['rating'].transform(fill_na).value_counts(dropna=False)"
   ]
  },
  {
   "cell_type": "code",
   "execution_count": 35,
   "id": "b1743bb5",
   "metadata": {
    "ExecuteTime": {
     "end_time": "2023-01-16T03:21:43.908258Z",
     "start_time": "2023-01-16T03:21:43.880722Z"
    }
   },
   "outputs": [
    {
     "name": "stderr",
     "output_type": "stream",
     "text": [
      "C:\\Users\\angel\\AppData\\Local\\Temp\\ipykernel_6200\\2171016198.py:8: FutureWarning: Unlike other reduction functions (e.g. `skew`, `kurtosis`), the default behavior of `mode` typically preserves the axis it acts along. In SciPy 1.11.0, this behavior will change: the default value of `keepdims` will become False, the `axis` over which the statistic is taken will be eliminated, and the value None will no longer be accepted. Set `keepdims` to True or False to avoid this warning.\n",
      "  value = st.mode(x_nonan)[0][0]\n",
      "C:\\Users\\angel\\AppData\\Local\\Temp\\ipykernel_6200\\2171016198.py:8: DeprecationWarning: Support for non-numeric arrays has been deprecated as of SciPy 1.9.0 and will be removed in 1.11.0. `pandas.DataFrame.mode` can be used instead, see https://pandas.pydata.org/docs/reference/api/pandas.DataFrame.mode.html.\n",
      "  value = st.mode(x_nonan)[0][0]\n"
     ]
    }
   ],
   "source": [
    "# Rellenando NaN en rating\n",
    "data['rating'] = data.groupby(['genre'])['rating'].transform(fill_na)"
   ]
  },
  {
   "cell_type": "code",
   "execution_count": 36,
   "id": "02d14b8d",
   "metadata": {
    "ExecuteTime": {
     "end_time": "2023-01-16T03:21:43.917167Z",
     "start_time": "2023-01-16T03:21:43.909254Z"
    }
   },
   "outputs": [
    {
     "data": {
      "text/plain": [
       "E       7615\n",
       "T       5449\n",
       "M       1969\n",
       "E10+    1571\n",
       "EC        16\n",
       "K-A        4\n",
       "RP         3\n",
       "AO         1\n",
       "Name: rating, dtype: int64"
      ]
     },
     "execution_count": 36,
     "metadata": {},
     "output_type": "execute_result"
    }
   ],
   "source": [
    "# Conteo de valores rating después del imputamiento\n",
    "data['rating'].value_counts(dropna=False)"
   ]
  },
  {
   "cell_type": "code",
   "execution_count": 37,
   "id": "f292a619",
   "metadata": {
    "ExecuteTime": {
     "end_time": "2023-01-16T03:21:43.938476Z",
     "start_time": "2023-01-16T03:21:43.917167Z"
    }
   },
   "outputs": [
    {
     "data": {
      "text/plain": [
       "name                  0\n",
       "short_name            0\n",
       "platform              0\n",
       "year_of_release      82\n",
       "genre                 0\n",
       "na_sales              0\n",
       "eu_sales              0\n",
       "jp_sales              0\n",
       "other_sales           0\n",
       "critic_score       8491\n",
       "user_score         6614\n",
       "rating                0\n",
       "dtype: int64"
      ]
     },
     "execution_count": 37,
     "metadata": {},
     "output_type": "execute_result"
    }
   ],
   "source": [
    "# Actualizamos vista de totales NaN por columnas\n",
    "data.isna().sum()"
   ]
  },
  {
   "cell_type": "markdown",
   "id": "9437cb85",
   "metadata": {},
   "source": [
    "Hasta ahora se ha rellenado todos los NaN de la columna rating, de acuerdo al nombre del juego y posteriormente de acuerdo al género del juego."
   ]
  },
  {
   "cell_type": "markdown",
   "id": "c06da8e0",
   "metadata": {},
   "source": [
    "**NaN de las columnas `critic_score` y `user_score`**\n",
    "\n",
    "Estas columnas se refieren a puntajes de juego. Se ha revisado si las ventas están relacionadas con el puntaje, pero no es así. Por lo que no existen un patrón que nos diga que el camino es imputar estos NaN de acuerdo a sus ventas."
   ]
  },
  {
   "cell_type": "code",
   "execution_count": 38,
   "id": "b7b1c8f2",
   "metadata": {
    "ExecuteTime": {
     "end_time": "2023-01-16T03:21:43.954430Z",
     "start_time": "2023-01-16T03:21:43.940468Z"
    }
   },
   "outputs": [
    {
     "data": {
      "text/plain": [
       "NaN     8491\n",
       "70.0     256\n",
       "71.0     254\n",
       "75.0     245\n",
       "78.0     240\n",
       "        ... \n",
       "20.0       3\n",
       "21.0       1\n",
       "17.0       1\n",
       "22.0       1\n",
       "13.0       1\n",
       "Name: critic_score, Length: 83, dtype: int64"
      ]
     },
     "execution_count": 38,
     "metadata": {},
     "output_type": "execute_result"
    }
   ],
   "source": [
    "data.critic_score.value_counts(dropna=False)"
   ]
  },
  {
   "cell_type": "code",
   "execution_count": 39,
   "id": "ce052c40",
   "metadata": {
    "ExecuteTime": {
     "end_time": "2023-01-16T03:21:43.966255Z",
     "start_time": "2023-01-16T03:21:43.955428Z"
    }
   },
   "outputs": [
    {
     "data": {
      "text/plain": [
       "NaN    6614\n",
       "tbd    2424\n",
       "7.8     324\n",
       "8       290\n",
       "8.2     282\n",
       "       ... \n",
       "1.1       2\n",
       "1.9       2\n",
       "9.6       2\n",
       "0         1\n",
       "9.7       1\n",
       "Name: user_score, Length: 97, dtype: int64"
      ]
     },
     "execution_count": 39,
     "metadata": {},
     "output_type": "execute_result"
    }
   ],
   "source": [
    "data.user_score.value_counts(dropna=False)"
   ]
  },
  {
   "cell_type": "markdown",
   "id": "872f2c40",
   "metadata": {},
   "source": [
    "En la columna `user_score` cambiaremos los valores tbd / 2424 por NaN. Puesto que el tbd significa \"to be determined\" a determinar sigue siendo desconocido al igual que NaN se decide cambiarlos como NaN y así tratar su imputamiento en conjunto."
   ]
  },
  {
   "cell_type": "code",
   "execution_count": 40,
   "id": "e4d7afd6",
   "metadata": {
    "ExecuteTime": {
     "end_time": "2023-01-16T03:21:43.981598Z",
     "start_time": "2023-01-16T03:21:43.966255Z"
    }
   },
   "outputs": [],
   "source": [
    "# Cambiamos tbd a NaN\n",
    "data.user_score = data.user_score.replace(\"tbd\", np.nan)"
   ]
  },
  {
   "cell_type": "code",
   "execution_count": 41,
   "id": "ee50193a",
   "metadata": {
    "ExecuteTime": {
     "end_time": "2023-01-16T03:21:43.997556Z",
     "start_time": "2023-01-16T03:21:43.982596Z"
    }
   },
   "outputs": [],
   "source": [
    "# Cambiamos a float la columna user_name\n",
    "data.user_score = data.user_score.astype(float)"
   ]
  },
  {
   "cell_type": "code",
   "execution_count": 42,
   "id": "6e21e1e2",
   "metadata": {
    "ExecuteTime": {
     "end_time": "2023-01-16T03:21:44.027185Z",
     "start_time": "2023-01-16T03:21:43.998553Z"
    }
   },
   "outputs": [
    {
     "data": {
      "text/plain": [
       "name                  0\n",
       "short_name            0\n",
       "platform              0\n",
       "year_of_release      82\n",
       "genre                 0\n",
       "na_sales              0\n",
       "eu_sales              0\n",
       "jp_sales              0\n",
       "other_sales           0\n",
       "critic_score       8491\n",
       "user_score         9038\n",
       "rating                0\n",
       "dtype: int64"
      ]
     },
     "execution_count": 42,
     "metadata": {},
     "output_type": "execute_result"
    }
   ],
   "source": [
    "data.isna().sum()"
   ]
  },
  {
   "cell_type": "markdown",
   "id": "7a3b6342",
   "metadata": {},
   "source": [
    "Hasta ahora tenemos 9038 NaN en user_score, y 8491 NaN critic_score . \n",
    "\n",
    "Vamos a imputar parte de estos NaN así:\n",
    "\n",
    " * Para los NaN de user_score, asignar el valor de critic_score / 10.\n",
    " * Para los NaN de critic_score, asignar el valor de user_score * 10."
   ]
  },
  {
   "cell_type": "code",
   "execution_count": 43,
   "id": "47b2e688",
   "metadata": {
    "ExecuteTime": {
     "end_time": "2023-01-16T03:21:44.059101Z",
     "start_time": "2023-01-16T03:21:44.028181Z"
    }
   },
   "outputs": [
    {
     "data": {
      "text/html": [
       "<div>\n",
       "<style scoped>\n",
       "    .dataframe tbody tr th:only-of-type {\n",
       "        vertical-align: middle;\n",
       "    }\n",
       "\n",
       "    .dataframe tbody tr th {\n",
       "        vertical-align: top;\n",
       "    }\n",
       "\n",
       "    .dataframe thead th {\n",
       "        text-align: right;\n",
       "    }\n",
       "</style>\n",
       "<table border=\"1\" class=\"dataframe\">\n",
       "  <thead>\n",
       "    <tr style=\"text-align: right;\">\n",
       "      <th></th>\n",
       "      <th>name</th>\n",
       "      <th>short_name</th>\n",
       "      <th>platform</th>\n",
       "      <th>year_of_release</th>\n",
       "      <th>genre</th>\n",
       "      <th>na_sales</th>\n",
       "      <th>eu_sales</th>\n",
       "      <th>jp_sales</th>\n",
       "      <th>other_sales</th>\n",
       "      <th>critic_score</th>\n",
       "      <th>user_score</th>\n",
       "      <th>rating</th>\n",
       "    </tr>\n",
       "  </thead>\n",
       "  <tbody>\n",
       "    <tr>\n",
       "      <th>182</th>\n",
       "      <td>Tomb Raider II</td>\n",
       "      <td>Tomb Raider II</td>\n",
       "      <td>PS</td>\n",
       "      <td>1997.0</td>\n",
       "      <td>Action</td>\n",
       "      <td>2.30</td>\n",
       "      <td>2.46</td>\n",
       "      <td>0.2</td>\n",
       "      <td>0.28</td>\n",
       "      <td>85.0</td>\n",
       "      <td>NaN</td>\n",
       "      <td>T</td>\n",
       "    </tr>\n",
       "    <tr>\n",
       "      <th>301</th>\n",
       "      <td>Namco Museum: 50th Anniversary</td>\n",
       "      <td>Namco Museum</td>\n",
       "      <td>PS2</td>\n",
       "      <td>2005.0</td>\n",
       "      <td>Misc</td>\n",
       "      <td>2.08</td>\n",
       "      <td>1.35</td>\n",
       "      <td>0.0</td>\n",
       "      <td>0.54</td>\n",
       "      <td>61.0</td>\n",
       "      <td>NaN</td>\n",
       "      <td>E10+</td>\n",
       "    </tr>\n",
       "    <tr>\n",
       "      <th>440</th>\n",
       "      <td>Need for Speed III: Hot Pursuit</td>\n",
       "      <td>Need for Speed III</td>\n",
       "      <td>PS</td>\n",
       "      <td>1998.0</td>\n",
       "      <td>Racing</td>\n",
       "      <td>2.14</td>\n",
       "      <td>0.86</td>\n",
       "      <td>0.0</td>\n",
       "      <td>0.13</td>\n",
       "      <td>88.0</td>\n",
       "      <td>NaN</td>\n",
       "      <td>E</td>\n",
       "    </tr>\n",
       "    <tr>\n",
       "      <th>635</th>\n",
       "      <td>Riven: The Sequel to Myst</td>\n",
       "      <td>Riven</td>\n",
       "      <td>PC</td>\n",
       "      <td>1997.0</td>\n",
       "      <td>Adventure</td>\n",
       "      <td>1.52</td>\n",
       "      <td>0.82</td>\n",
       "      <td>0.0</td>\n",
       "      <td>0.10</td>\n",
       "      <td>83.0</td>\n",
       "      <td>NaN</td>\n",
       "      <td>E</td>\n",
       "    </tr>\n",
       "    <tr>\n",
       "      <th>643</th>\n",
       "      <td>uDraw Studio</td>\n",
       "      <td>uDraw Studio</td>\n",
       "      <td>Wii</td>\n",
       "      <td>2010.0</td>\n",
       "      <td>Misc</td>\n",
       "      <td>1.65</td>\n",
       "      <td>0.57</td>\n",
       "      <td>0.0</td>\n",
       "      <td>0.20</td>\n",
       "      <td>71.0</td>\n",
       "      <td>NaN</td>\n",
       "      <td>E</td>\n",
       "    </tr>\n",
       "    <tr>\n",
       "      <th>...</th>\n",
       "      <td>...</td>\n",
       "      <td>...</td>\n",
       "      <td>...</td>\n",
       "      <td>...</td>\n",
       "      <td>...</td>\n",
       "      <td>...</td>\n",
       "      <td>...</td>\n",
       "      <td>...</td>\n",
       "      <td>...</td>\n",
       "      <td>...</td>\n",
       "      <td>...</td>\n",
       "      <td>...</td>\n",
       "    </tr>\n",
       "    <tr>\n",
       "      <th>16490</th>\n",
       "      <td>Space Raiders</td>\n",
       "      <td>Space Raiders</td>\n",
       "      <td>GC</td>\n",
       "      <td>2003.0</td>\n",
       "      <td>Shooter</td>\n",
       "      <td>0.01</td>\n",
       "      <td>0.00</td>\n",
       "      <td>0.0</td>\n",
       "      <td>0.00</td>\n",
       "      <td>40.0</td>\n",
       "      <td>NaN</td>\n",
       "      <td>T</td>\n",
       "    </tr>\n",
       "    <tr>\n",
       "      <th>16582</th>\n",
       "      <td>Super Robot Taisen: Original Generation</td>\n",
       "      <td>Super Robot Taisen</td>\n",
       "      <td>GBA</td>\n",
       "      <td>2002.0</td>\n",
       "      <td>Role-Playing</td>\n",
       "      <td>0.01</td>\n",
       "      <td>0.00</td>\n",
       "      <td>0.0</td>\n",
       "      <td>0.00</td>\n",
       "      <td>72.0</td>\n",
       "      <td>NaN</td>\n",
       "      <td>T</td>\n",
       "    </tr>\n",
       "    <tr>\n",
       "      <th>16608</th>\n",
       "      <td>Planet Monsters</td>\n",
       "      <td>Planet Monsters</td>\n",
       "      <td>GBA</td>\n",
       "      <td>2001.0</td>\n",
       "      <td>Action</td>\n",
       "      <td>0.01</td>\n",
       "      <td>0.00</td>\n",
       "      <td>0.0</td>\n",
       "      <td>0.00</td>\n",
       "      <td>67.0</td>\n",
       "      <td>NaN</td>\n",
       "      <td>E</td>\n",
       "    </tr>\n",
       "    <tr>\n",
       "      <th>16610</th>\n",
       "      <td>Bust-A-Move 3000</td>\n",
       "      <td>Bust-A-Move 3000</td>\n",
       "      <td>GC</td>\n",
       "      <td>2003.0</td>\n",
       "      <td>Puzzle</td>\n",
       "      <td>0.01</td>\n",
       "      <td>0.00</td>\n",
       "      <td>0.0</td>\n",
       "      <td>0.00</td>\n",
       "      <td>53.0</td>\n",
       "      <td>NaN</td>\n",
       "      <td>E</td>\n",
       "    </tr>\n",
       "    <tr>\n",
       "      <th>16611</th>\n",
       "      <td>Mega Brain Boost</td>\n",
       "      <td>Mega Brain Boost</td>\n",
       "      <td>DS</td>\n",
       "      <td>2008.0</td>\n",
       "      <td>Puzzle</td>\n",
       "      <td>0.01</td>\n",
       "      <td>0.00</td>\n",
       "      <td>0.0</td>\n",
       "      <td>0.00</td>\n",
       "      <td>48.0</td>\n",
       "      <td>NaN</td>\n",
       "      <td>E</td>\n",
       "    </tr>\n",
       "  </tbody>\n",
       "</table>\n",
       "<p>1120 rows × 12 columns</p>\n",
       "</div>"
      ],
      "text/plain": [
       "                                          name          short_name platform  \\\n",
       "182                             Tomb Raider II      Tomb Raider II       PS   \n",
       "301             Namco Museum: 50th Anniversary        Namco Museum      PS2   \n",
       "440            Need for Speed III: Hot Pursuit  Need for Speed III       PS   \n",
       "635                  Riven: The Sequel to Myst               Riven       PC   \n",
       "643                               uDraw Studio        uDraw Studio      Wii   \n",
       "...                                        ...                 ...      ...   \n",
       "16490                            Space Raiders       Space Raiders       GC   \n",
       "16582  Super Robot Taisen: Original Generation  Super Robot Taisen      GBA   \n",
       "16608                          Planet Monsters     Planet Monsters      GBA   \n",
       "16610                         Bust-A-Move 3000    Bust-A-Move 3000       GC   \n",
       "16611                         Mega Brain Boost    Mega Brain Boost       DS   \n",
       "\n",
       "       year_of_release         genre  na_sales  eu_sales  jp_sales  \\\n",
       "182             1997.0        Action      2.30      2.46       0.2   \n",
       "301             2005.0          Misc      2.08      1.35       0.0   \n",
       "440             1998.0        Racing      2.14      0.86       0.0   \n",
       "635             1997.0     Adventure      1.52      0.82       0.0   \n",
       "643             2010.0          Misc      1.65      0.57       0.0   \n",
       "...                ...           ...       ...       ...       ...   \n",
       "16490           2003.0       Shooter      0.01      0.00       0.0   \n",
       "16582           2002.0  Role-Playing      0.01      0.00       0.0   \n",
       "16608           2001.0        Action      0.01      0.00       0.0   \n",
       "16610           2003.0        Puzzle      0.01      0.00       0.0   \n",
       "16611           2008.0        Puzzle      0.01      0.00       0.0   \n",
       "\n",
       "       other_sales  critic_score  user_score rating  \n",
       "182           0.28          85.0         NaN      T  \n",
       "301           0.54          61.0         NaN   E10+  \n",
       "440           0.13          88.0         NaN      E  \n",
       "635           0.10          83.0         NaN      E  \n",
       "643           0.20          71.0         NaN      E  \n",
       "...            ...           ...         ...    ...  \n",
       "16490         0.00          40.0         NaN      T  \n",
       "16582         0.00          72.0         NaN      T  \n",
       "16608         0.00          67.0         NaN      E  \n",
       "16610         0.00          53.0         NaN      E  \n",
       "16611         0.00          48.0         NaN      E  \n",
       "\n",
       "[1120 rows x 12 columns]"
      ]
     },
     "execution_count": 43,
     "metadata": {},
     "output_type": "execute_result"
    }
   ],
   "source": [
    "# Revisemos cuando user_score es NaN y critic_score tiene valor\n",
    "data.query('not critic_score.isna() and user_score.isna()')"
   ]
  },
  {
   "cell_type": "markdown",
   "id": "f416aa7e",
   "metadata": {},
   "source": [
    "Tenemos 1120 registros donde critic_score tiene valor y user_score es NaN."
   ]
  },
  {
   "cell_type": "code",
   "execution_count": 44,
   "id": "beec982a",
   "metadata": {
    "ExecuteTime": {
     "end_time": "2023-01-16T03:21:44.074557Z",
     "start_time": "2023-01-16T03:21:44.060098Z"
    }
   },
   "outputs": [
    {
     "data": {
      "text/plain": [
       "NaN    9038\n",
       "7.8     324\n",
       "8.0     290\n",
       "8.2     282\n",
       "8.3     254\n",
       "       ... \n",
       "1.5       2\n",
       "0.3       2\n",
       "1.1       2\n",
       "0.0       1\n",
       "9.7       1\n",
       "Name: user_score, Length: 96, dtype: int64"
      ]
     },
     "execution_count": 44,
     "metadata": {},
     "output_type": "execute_result"
    }
   ],
   "source": [
    "# Revision de valores en user_score previa al imputamiento\n",
    "data['user_score'].value_counts(dropna=False)"
   ]
  },
  {
   "cell_type": "code",
   "execution_count": 45,
   "id": "1bcbb8b1",
   "metadata": {
    "ExecuteTime": {
     "end_time": "2023-01-16T03:21:44.090516Z",
     "start_time": "2023-01-16T03:21:44.075555Z"
    }
   },
   "outputs": [],
   "source": [
    "# Prueba antes del fillna\n",
    "#data.query('not critic_score.isna() and user_score.isna()')['user_score'].fillna(data['critic_score'] /10)"
   ]
  },
  {
   "cell_type": "code",
   "execution_count": 46,
   "id": "e2a65ce2",
   "metadata": {
    "ExecuteTime": {
     "end_time": "2023-01-16T03:21:44.106472Z",
     "start_time": "2023-01-16T03:21:44.091514Z"
    }
   },
   "outputs": [],
   "source": [
    "# Rellenamos NaN en \"user_score\" con el valor de critic_score/10\n",
    "data['user_score'] = data['user_score'].fillna(data['critic_score']/10)"
   ]
  },
  {
   "cell_type": "code",
   "execution_count": 47,
   "id": "6d431d25",
   "metadata": {
    "ExecuteTime": {
     "end_time": "2023-01-16T03:21:44.121833Z",
     "start_time": "2023-01-16T03:21:44.107246Z"
    }
   },
   "outputs": [
    {
     "data": {
      "text/plain": [
       "NaN    7918\n",
       "7.8     343\n",
       "8.0     296\n",
       "8.2     287\n",
       "7.5     273\n",
       "       ... \n",
       "1.1       2\n",
       "1.9       2\n",
       "9.6       2\n",
       "0.0       1\n",
       "9.7       1\n",
       "Name: user_score, Length: 96, dtype: int64"
      ]
     },
     "execution_count": 47,
     "metadata": {},
     "output_type": "execute_result"
    }
   ],
   "source": [
    "# Comprobamos después del cambio\n",
    "data['user_score'].value_counts(dropna=False)"
   ]
  },
  {
   "cell_type": "code",
   "execution_count": 48,
   "id": "63a2de55",
   "metadata": {
    "ExecuteTime": {
     "end_time": "2023-01-16T03:21:44.151752Z",
     "start_time": "2023-01-16T03:21:44.122829Z"
    }
   },
   "outputs": [
    {
     "data": {
      "text/plain": [
       "name                  0\n",
       "short_name            0\n",
       "platform              0\n",
       "year_of_release      82\n",
       "genre                 0\n",
       "na_sales              0\n",
       "eu_sales              0\n",
       "jp_sales              0\n",
       "other_sales           0\n",
       "critic_score       8491\n",
       "user_score         7918\n",
       "rating                0\n",
       "dtype: int64"
      ]
     },
     "execution_count": 48,
     "metadata": {},
     "output_type": "execute_result"
    }
   ],
   "source": [
    "data.isna().sum()"
   ]
  },
  {
   "cell_type": "code",
   "execution_count": 49,
   "id": "a5eb0467",
   "metadata": {
    "ExecuteTime": {
     "end_time": "2023-01-16T03:21:44.182199Z",
     "start_time": "2023-01-16T03:21:44.152749Z"
    }
   },
   "outputs": [
    {
     "data": {
      "text/html": [
       "<div>\n",
       "<style scoped>\n",
       "    .dataframe tbody tr th:only-of-type {\n",
       "        vertical-align: middle;\n",
       "    }\n",
       "\n",
       "    .dataframe tbody tr th {\n",
       "        vertical-align: top;\n",
       "    }\n",
       "\n",
       "    .dataframe thead th {\n",
       "        text-align: right;\n",
       "    }\n",
       "</style>\n",
       "<table border=\"1\" class=\"dataframe\">\n",
       "  <thead>\n",
       "    <tr style=\"text-align: right;\">\n",
       "      <th></th>\n",
       "      <th>name</th>\n",
       "      <th>short_name</th>\n",
       "      <th>platform</th>\n",
       "      <th>year_of_release</th>\n",
       "      <th>genre</th>\n",
       "      <th>na_sales</th>\n",
       "      <th>eu_sales</th>\n",
       "      <th>jp_sales</th>\n",
       "      <th>other_sales</th>\n",
       "      <th>critic_score</th>\n",
       "      <th>user_score</th>\n",
       "      <th>rating</th>\n",
       "    </tr>\n",
       "  </thead>\n",
       "  <tbody>\n",
       "    <tr>\n",
       "      <th>255</th>\n",
       "      <td>Call of Duty: Advanced Warfare</td>\n",
       "      <td>Call of Duty</td>\n",
       "      <td>PS3</td>\n",
       "      <td>2014.0</td>\n",
       "      <td>Shooter</td>\n",
       "      <td>1.56</td>\n",
       "      <td>1.93</td>\n",
       "      <td>0.19</td>\n",
       "      <td>0.68</td>\n",
       "      <td>NaN</td>\n",
       "      <td>4.8</td>\n",
       "      <td>M</td>\n",
       "    </tr>\n",
       "    <tr>\n",
       "      <th>263</th>\n",
       "      <td>Call of Duty: Advanced Warfare</td>\n",
       "      <td>Call of Duty</td>\n",
       "      <td>X360</td>\n",
       "      <td>2014.0</td>\n",
       "      <td>Shooter</td>\n",
       "      <td>2.77</td>\n",
       "      <td>1.11</td>\n",
       "      <td>0.00</td>\n",
       "      <td>0.40</td>\n",
       "      <td>NaN</td>\n",
       "      <td>4.9</td>\n",
       "      <td>M</td>\n",
       "    </tr>\n",
       "    <tr>\n",
       "      <th>264</th>\n",
       "      <td>FIFA 15</td>\n",
       "      <td>FIFA 15</td>\n",
       "      <td>PS3</td>\n",
       "      <td>2014.0</td>\n",
       "      <td>Sports</td>\n",
       "      <td>0.58</td>\n",
       "      <td>3.02</td>\n",
       "      <td>0.04</td>\n",
       "      <td>0.64</td>\n",
       "      <td>NaN</td>\n",
       "      <td>4.5</td>\n",
       "      <td>E</td>\n",
       "    </tr>\n",
       "    <tr>\n",
       "      <th>291</th>\n",
       "      <td>World Soccer Winning Eleven 9</td>\n",
       "      <td>World Soccer Winning Eleven 9</td>\n",
       "      <td>PS2</td>\n",
       "      <td>2005.0</td>\n",
       "      <td>Sports</td>\n",
       "      <td>0.12</td>\n",
       "      <td>2.26</td>\n",
       "      <td>0.90</td>\n",
       "      <td>0.77</td>\n",
       "      <td>NaN</td>\n",
       "      <td>8.2</td>\n",
       "      <td>E</td>\n",
       "    </tr>\n",
       "    <tr>\n",
       "      <th>359</th>\n",
       "      <td>Just Dance 2014</td>\n",
       "      <td>Just Dance 2014</td>\n",
       "      <td>Wii</td>\n",
       "      <td>2013.0</td>\n",
       "      <td>Misc</td>\n",
       "      <td>1.88</td>\n",
       "      <td>1.39</td>\n",
       "      <td>0.00</td>\n",
       "      <td>0.31</td>\n",
       "      <td>NaN</td>\n",
       "      <td>6.2</td>\n",
       "      <td>E10+</td>\n",
       "    </tr>\n",
       "    <tr>\n",
       "      <th>...</th>\n",
       "      <td>...</td>\n",
       "      <td>...</td>\n",
       "      <td>...</td>\n",
       "      <td>...</td>\n",
       "      <td>...</td>\n",
       "      <td>...</td>\n",
       "      <td>...</td>\n",
       "      <td>...</td>\n",
       "      <td>...</td>\n",
       "      <td>...</td>\n",
       "      <td>...</td>\n",
       "      <td>...</td>\n",
       "    </tr>\n",
       "    <tr>\n",
       "      <th>16549</th>\n",
       "      <td>Deal or No Deal</td>\n",
       "      <td>Deal or No Deal</td>\n",
       "      <td>PC</td>\n",
       "      <td>2006.0</td>\n",
       "      <td>Misc</td>\n",
       "      <td>0.00</td>\n",
       "      <td>0.01</td>\n",
       "      <td>0.00</td>\n",
       "      <td>0.00</td>\n",
       "      <td>NaN</td>\n",
       "      <td>7.5</td>\n",
       "      <td>E</td>\n",
       "    </tr>\n",
       "    <tr>\n",
       "      <th>16556</th>\n",
       "      <td>Rugby Challenge 3</td>\n",
       "      <td>Rugby Challenge 3</td>\n",
       "      <td>XOne</td>\n",
       "      <td>2016.0</td>\n",
       "      <td>Sports</td>\n",
       "      <td>0.00</td>\n",
       "      <td>0.01</td>\n",
       "      <td>0.00</td>\n",
       "      <td>0.00</td>\n",
       "      <td>NaN</td>\n",
       "      <td>6.6</td>\n",
       "      <td>E</td>\n",
       "    </tr>\n",
       "    <tr>\n",
       "      <th>16567</th>\n",
       "      <td>Ben 10 Omniverse 2</td>\n",
       "      <td>Ben 10 Omniverse 2</td>\n",
       "      <td>X360</td>\n",
       "      <td>2013.0</td>\n",
       "      <td>Action</td>\n",
       "      <td>0.00</td>\n",
       "      <td>0.01</td>\n",
       "      <td>0.00</td>\n",
       "      <td>0.00</td>\n",
       "      <td>NaN</td>\n",
       "      <td>5.1</td>\n",
       "      <td>E10+</td>\n",
       "    </tr>\n",
       "    <tr>\n",
       "      <th>16574</th>\n",
       "      <td>Bookworm Deluxe</td>\n",
       "      <td>Bookworm Deluxe</td>\n",
       "      <td>PC</td>\n",
       "      <td>2006.0</td>\n",
       "      <td>Puzzle</td>\n",
       "      <td>0.01</td>\n",
       "      <td>0.00</td>\n",
       "      <td>0.00</td>\n",
       "      <td>0.00</td>\n",
       "      <td>NaN</td>\n",
       "      <td>8.0</td>\n",
       "      <td>E</td>\n",
       "    </tr>\n",
       "    <tr>\n",
       "      <th>16594</th>\n",
       "      <td>Worms 2</td>\n",
       "      <td>Worms 2</td>\n",
       "      <td>PC</td>\n",
       "      <td>1997.0</td>\n",
       "      <td>Strategy</td>\n",
       "      <td>0.00</td>\n",
       "      <td>0.01</td>\n",
       "      <td>0.00</td>\n",
       "      <td>0.00</td>\n",
       "      <td>NaN</td>\n",
       "      <td>8.1</td>\n",
       "      <td>K-A</td>\n",
       "    </tr>\n",
       "  </tbody>\n",
       "</table>\n",
       "<p>573 rows × 12 columns</p>\n",
       "</div>"
      ],
      "text/plain": [
       "                                 name                     short_name platform  \\\n",
       "255    Call of Duty: Advanced Warfare                   Call of Duty      PS3   \n",
       "263    Call of Duty: Advanced Warfare                   Call of Duty     X360   \n",
       "264                           FIFA 15                        FIFA 15      PS3   \n",
       "291     World Soccer Winning Eleven 9  World Soccer Winning Eleven 9      PS2   \n",
       "359                   Just Dance 2014                Just Dance 2014      Wii   \n",
       "...                               ...                            ...      ...   \n",
       "16549                 Deal or No Deal                Deal or No Deal       PC   \n",
       "16556               Rugby Challenge 3              Rugby Challenge 3     XOne   \n",
       "16567              Ben 10 Omniverse 2             Ben 10 Omniverse 2     X360   \n",
       "16574                 Bookworm Deluxe                Bookworm Deluxe       PC   \n",
       "16594                         Worms 2                        Worms 2       PC   \n",
       "\n",
       "       year_of_release     genre  na_sales  eu_sales  jp_sales  other_sales  \\\n",
       "255             2014.0   Shooter      1.56      1.93      0.19         0.68   \n",
       "263             2014.0   Shooter      2.77      1.11      0.00         0.40   \n",
       "264             2014.0    Sports      0.58      3.02      0.04         0.64   \n",
       "291             2005.0    Sports      0.12      2.26      0.90         0.77   \n",
       "359             2013.0      Misc      1.88      1.39      0.00         0.31   \n",
       "...                ...       ...       ...       ...       ...          ...   \n",
       "16549           2006.0      Misc      0.00      0.01      0.00         0.00   \n",
       "16556           2016.0    Sports      0.00      0.01      0.00         0.00   \n",
       "16567           2013.0    Action      0.00      0.01      0.00         0.00   \n",
       "16574           2006.0    Puzzle      0.01      0.00      0.00         0.00   \n",
       "16594           1997.0  Strategy      0.00      0.01      0.00         0.00   \n",
       "\n",
       "       critic_score  user_score rating  \n",
       "255             NaN         4.8      M  \n",
       "263             NaN         4.9      M  \n",
       "264             NaN         4.5      E  \n",
       "291             NaN         8.2      E  \n",
       "359             NaN         6.2   E10+  \n",
       "...             ...         ...    ...  \n",
       "16549           NaN         7.5      E  \n",
       "16556           NaN         6.6      E  \n",
       "16567           NaN         5.1   E10+  \n",
       "16574           NaN         8.0      E  \n",
       "16594           NaN         8.1    K-A  \n",
       "\n",
       "[573 rows x 12 columns]"
      ]
     },
     "execution_count": 49,
     "metadata": {},
     "output_type": "execute_result"
    }
   ],
   "source": [
    "# Revisemos cuando critic_score es NaN y user_score tiene valor\n",
    "data.query('not user_score.isna() and critic_score.isna()')"
   ]
  },
  {
   "cell_type": "markdown",
   "id": "f594be9e",
   "metadata": {},
   "source": [
    "Tenemos 573 registros donde critic_score es NaN y user_score tiene valor. A estos registros realizaremos el imputamiento a continuación."
   ]
  },
  {
   "cell_type": "code",
   "execution_count": 50,
   "id": "87606362",
   "metadata": {
    "ExecuteTime": {
     "end_time": "2023-01-16T03:21:44.198152Z",
     "start_time": "2023-01-16T03:21:44.183191Z"
    }
   },
   "outputs": [
    {
     "data": {
      "text/plain": [
       "NaN     8491\n",
       "70.0     256\n",
       "71.0     254\n",
       "75.0     245\n",
       "78.0     240\n",
       "        ... \n",
       "20.0       3\n",
       "21.0       1\n",
       "17.0       1\n",
       "22.0       1\n",
       "13.0       1\n",
       "Name: critic_score, Length: 83, dtype: int64"
      ]
     },
     "execution_count": 50,
     "metadata": {},
     "output_type": "execute_result"
    }
   ],
   "source": [
    "# Revision de valores en critic_score previa al imputamiento\n",
    "data['critic_score'].value_counts(dropna=False)"
   ]
  },
  {
   "cell_type": "code",
   "execution_count": 51,
   "id": "9ffb6782",
   "metadata": {
    "ExecuteTime": {
     "end_time": "2023-01-16T03:21:44.213449Z",
     "start_time": "2023-01-16T03:21:44.198586Z"
    }
   },
   "outputs": [],
   "source": [
    "# Prueba antes del fillna\n",
    "#data.query('not user_score.isna() and critic_score.isna()')['critic_score'].fillna(data['user_score']*10)"
   ]
  },
  {
   "cell_type": "code",
   "execution_count": 52,
   "id": "caeea105",
   "metadata": {
    "ExecuteTime": {
     "end_time": "2023-01-16T03:21:44.229407Z",
     "start_time": "2023-01-16T03:21:44.214446Z"
    }
   },
   "outputs": [],
   "source": [
    "# Rellenamos NaN en critic_score con el valor de user_score * 10\n",
    "data['critic_score'] = data['critic_score'].fillna(data['user_score'] * 10)"
   ]
  },
  {
   "cell_type": "code",
   "execution_count": 53,
   "id": "cc6243b8",
   "metadata": {
    "ExecuteTime": {
     "end_time": "2023-01-16T03:21:44.245375Z",
     "start_time": "2023-01-16T03:21:44.230403Z"
    }
   },
   "outputs": [
    {
     "data": {
      "text/plain": [
       "NaN     7918\n",
       "70.0     280\n",
       "71.0     268\n",
       "78.0     266\n",
       "80.0     260\n",
       "        ... \n",
       "9.0        1\n",
       "7.0        1\n",
       "21.0       1\n",
       "0.0        1\n",
       "6.0        1\n",
       "Name: critic_score, Length: 94, dtype: int64"
      ]
     },
     "execution_count": 53,
     "metadata": {},
     "output_type": "execute_result"
    }
   ],
   "source": [
    "# Comprobamos después del cambio\n",
    "data['critic_score'].value_counts(dropna=False)"
   ]
  },
  {
   "cell_type": "code",
   "execution_count": 54,
   "id": "3fa91ef9",
   "metadata": {
    "ExecuteTime": {
     "end_time": "2023-01-16T03:21:44.261343Z",
     "start_time": "2023-01-16T03:21:44.246361Z"
    }
   },
   "outputs": [
    {
     "data": {
      "text/html": [
       "<div>\n",
       "<style scoped>\n",
       "    .dataframe tbody tr th:only-of-type {\n",
       "        vertical-align: middle;\n",
       "    }\n",
       "\n",
       "    .dataframe tbody tr th {\n",
       "        vertical-align: top;\n",
       "    }\n",
       "\n",
       "    .dataframe thead th {\n",
       "        text-align: right;\n",
       "    }\n",
       "</style>\n",
       "<table border=\"1\" class=\"dataframe\">\n",
       "  <thead>\n",
       "    <tr style=\"text-align: right;\">\n",
       "      <th></th>\n",
       "      <th>name</th>\n",
       "      <th>short_name</th>\n",
       "      <th>platform</th>\n",
       "      <th>year_of_release</th>\n",
       "      <th>genre</th>\n",
       "      <th>na_sales</th>\n",
       "      <th>eu_sales</th>\n",
       "      <th>jp_sales</th>\n",
       "      <th>other_sales</th>\n",
       "      <th>critic_score</th>\n",
       "      <th>user_score</th>\n",
       "      <th>rating</th>\n",
       "    </tr>\n",
       "  </thead>\n",
       "  <tbody>\n",
       "  </tbody>\n",
       "</table>\n",
       "</div>"
      ],
      "text/plain": [
       "Empty DataFrame\n",
       "Columns: [name, short_name, platform, year_of_release, genre, na_sales, eu_sales, jp_sales, other_sales, critic_score, user_score, rating]\n",
       "Index: []"
      ]
     },
     "execution_count": 54,
     "metadata": {},
     "output_type": "execute_result"
    }
   ],
   "source": [
    "data.query('not user_score.isna() and critic_score.isna()')"
   ]
  },
  {
   "cell_type": "code",
   "execution_count": 55,
   "id": "904afcfe",
   "metadata": {
    "ExecuteTime": {
     "end_time": "2023-01-16T03:21:44.276810Z",
     "start_time": "2023-01-16T03:21:44.262342Z"
    }
   },
   "outputs": [
    {
     "data": {
      "text/plain": [
       "name                  0\n",
       "short_name            0\n",
       "platform              0\n",
       "year_of_release      82\n",
       "genre                 0\n",
       "na_sales              0\n",
       "eu_sales              0\n",
       "jp_sales              0\n",
       "other_sales           0\n",
       "critic_score       7918\n",
       "user_score         7918\n",
       "rating                0\n",
       "dtype: int64"
      ]
     },
     "execution_count": 55,
     "metadata": {},
     "output_type": "execute_result"
    }
   ],
   "source": [
    "data.isna().sum()"
   ]
  },
  {
   "cell_type": "code",
   "execution_count": 56,
   "id": "65f30b1c",
   "metadata": {
    "ExecuteTime": {
     "end_time": "2023-01-16T03:21:44.290520Z",
     "start_time": "2023-01-16T03:21:44.277806Z"
    }
   },
   "outputs": [
    {
     "name": "stdout",
     "output_type": "stream",
     "text": [
      "critic_score 47.6%\n",
      "user_score 47.6%\n"
     ]
    }
   ],
   "source": [
    "print(f'critic_score {data.critic_score.isna().sum()/len(data):.1%}')\n",
    "print(f'user_score {data.user_score.isna().sum()/len(data):.1%}')"
   ]
  },
  {
   "cell_type": "markdown",
   "id": "5feab0f4",
   "metadata": {},
   "source": [
    "Se realizó el imputamiento parcial para critic_score y user_score, pero aún tenemos muchos NaN, un 48% en cada columna para ser más específicos. \n",
    "\n",
    "Podríamos pensar que los puntajes están relacionados al éxito o fracaso en ventas. Por lo que vamos a revisar la correlación entre el total de ventas para critic_score y user_score, de acuerdo a estos resultados podremos tomar una decisión de imputar estos valores ausentes."
   ]
  },
  {
   "cell_type": "markdown",
   "id": "e877703c",
   "metadata": {},
   "source": [
    "Primero, vamos a crear la columna `total_sales`, a la que le otorgaremos la suma de todas las ventas ventas, es decir de las 4 columnas: na_sales, eu_sales, jp_sales y other_sales."
   ]
  },
  {
   "cell_type": "code",
   "execution_count": 57,
   "id": "41fcf8b0",
   "metadata": {
    "ExecuteTime": {
     "end_time": "2023-01-16T03:21:44.306451Z",
     "start_time": "2023-01-16T03:21:44.290520Z"
    }
   },
   "outputs": [],
   "source": [
    "# Creamos una columna con el total de ventas de EEUU, Europa, Japón y otros paises y la colocamos en la 10ma posición\n",
    "data.insert(11, 'total_sales', data[['na_sales', 'eu_sales','jp_sales', 'other_sales']].sum(axis=1))"
   ]
  },
  {
   "cell_type": "code",
   "execution_count": 58,
   "id": "ee1947db",
   "metadata": {
    "ExecuteTime": {
     "end_time": "2023-01-16T03:21:44.518811Z",
     "start_time": "2023-01-16T03:21:44.307447Z"
    },
    "scrolled": false
   },
   "outputs": [
    {
     "name": "stdout",
     "output_type": "stream",
     "text": [
      "Correlation total_sales and user_score 0.11\n"
     ]
    },
    {
     "data": {
      "image/png": "[encoded data removed]",
      "text/plain": [
       "<Figure size 640x480 with 1 Axes>"
      ]
     },
     "metadata": {},
     "output_type": "display_data"
    }
   ],
   "source": [
    "print('Correlation total_sales and user_score', data.total_sales.corr(data.user_score).round(2))\n",
    "data.plot(x='total_sales', y='user_score', kind='scatter', alpha=0.3, \n",
    "          title='Relation between total sales and user score ')\n",
    "plt.show()"
   ]
  },
  {
   "cell_type": "markdown",
   "id": "ef416af8",
   "metadata": {},
   "source": [
    "Hemos revisado la correlación entre el total de ventas y puntaje, y obtenemos que exiten una débil relación lineal entre el total_sales y user_score. Es decir, la conexión entre estas variables seguramente es más complejo que solo decir que a mayores ventas obtendremos un mayor puntaje, o a menores ventas menores puntajes. Por lo que se decide dejar los NaN sin imputar."
   ]
  },
  {
   "cell_type": "code",
   "execution_count": 59,
   "id": "5893bf5a",
   "metadata": {
    "ExecuteTime": {
     "end_time": "2023-01-16T03:21:44.691275Z",
     "start_time": "2023-01-16T03:21:44.520787Z"
    },
    "scrolled": false
   },
   "outputs": [
    {
     "name": "stdout",
     "output_type": "stream",
     "text": [
      "Correlation total_sales and critic_score 0.23\n"
     ]
    },
    {
     "data": {
      "image/png": "[encoded data removed]",
      "text/plain": [
       "<Figure size 640x480 with 1 Axes>"
      ]
     },
     "metadata": {},
     "output_type": "display_data"
    }
   ],
   "source": [
    "print('Correlation total_sales and critic_score', data.total_sales.corr(data.critic_score).round(2))\n",
    "data.plot(x='total_sales', y='critic_score', kind='scatter', alpha=0.3, \n",
    "          title='Relation between total sales and critic score ')\n",
    "plt.show()"
   ]
  },
  {
   "cell_type": "markdown",
   "id": "ee8cb2b4",
   "metadata": {},
   "source": [
    "Hemos revisado la correlación entre el total de ventas y puntaje, y obtenemos que exiten una débil relación lineal entre el total_sales y critic_score. Es decir, la conexión entre estas variables seguramente es más complejo que solo decir que a mayores ventas obtendremos un mayor puntaje, o a menores ventas menores puntajes. Por lo que se decide también dejar los NaN sin imputar."
   ]
  },
  {
   "cell_type": "code",
   "execution_count": 60,
   "id": "e2b9b532",
   "metadata": {
    "ExecuteTime": {
     "end_time": "2023-01-16T03:21:44.723190Z",
     "start_time": "2023-01-16T03:21:44.693269Z"
    }
   },
   "outputs": [
    {
     "data": {
      "text/plain": [
       "name                  0\n",
       "short_name            0\n",
       "platform              0\n",
       "year_of_release      82\n",
       "genre                 0\n",
       "na_sales              0\n",
       "eu_sales              0\n",
       "jp_sales              0\n",
       "other_sales           0\n",
       "critic_score       7918\n",
       "user_score         7918\n",
       "total_sales           0\n",
       "rating                0\n",
       "dtype: int64"
      ]
     },
     "execution_count": 60,
     "metadata": {},
     "output_type": "execute_result"
    }
   ],
   "source": [
    "data.isna().sum()"
   ]
  },
  {
   "cell_type": "markdown",
   "id": "67d5b449",
   "metadata": {},
   "source": [
    "## Tipos de datos<a id='tip'></a>"
   ]
  },
  {
   "cell_type": "code",
   "execution_count": 61,
   "id": "cf015e7f",
   "metadata": {
    "ExecuteTime": {
     "end_time": "2023-01-16T03:21:44.755105Z",
     "start_time": "2023-01-16T03:21:44.725186Z"
    }
   },
   "outputs": [
    {
     "name": "stdout",
     "output_type": "stream",
     "text": [
      "<class 'pandas.core.frame.DataFrame'>\n",
      "RangeIndex: 16628 entries, 0 to 16627\n",
      "Data columns (total 13 columns):\n",
      " #   Column           Non-Null Count  Dtype  \n",
      "---  ------           --------------  -----  \n",
      " 0   name             16628 non-null  object \n",
      " 1   short_name       16628 non-null  object \n",
      " 2   platform         16628 non-null  object \n",
      " 3   year_of_release  16546 non-null  float64\n",
      " 4   genre            16628 non-null  object \n",
      " 5   na_sales         16628 non-null  float64\n",
      " 6   eu_sales         16628 non-null  float64\n",
      " 7   jp_sales         16628 non-null  float64\n",
      " 8   other_sales      16628 non-null  float64\n",
      " 9   critic_score     8710 non-null   float64\n",
      " 10  user_score       8710 non-null   float64\n",
      " 11  total_sales      16628 non-null  float64\n",
      " 12  rating           16628 non-null  object \n",
      "dtypes: float64(8), object(5)\n",
      "memory usage: 1.6+ MB\n"
     ]
    }
   ],
   "source": [
    "data.info()"
   ]
  },
  {
   "cell_type": "markdown",
   "id": "f7f3d4f3",
   "metadata": {},
   "source": [
    "La columna year_of_release que guarda el año, se encuentra como tipo 'float'; esta columna se dejará tal cual ya que existen valores NaN que no pudimos imputar."
   ]
  },
  {
   "cell_type": "markdown",
   "id": "32f6437e",
   "metadata": {},
   "source": [
    "# Análisis de datos<a id='ana'></a>"
   ]
  },
  {
   "cell_type": "markdown",
   "id": "bb0acf57",
   "metadata": {},
   "source": [
    "## Juegos lanzados por año<a id='jue'></a>"
   ]
  },
  {
   "cell_type": "markdown",
   "id": "2781dd85",
   "metadata": {},
   "source": [
    "Mira cuántos juegos fueron lanzados en diferentes años."
   ]
  },
  {
   "cell_type": "code",
   "execution_count": 62,
   "id": "425177d8",
   "metadata": {
    "ExecuteTime": {
     "end_time": "2023-01-16T03:21:44.897549Z",
     "start_time": "2023-01-16T03:21:44.756103Z"
    }
   },
   "outputs": [
    {
     "data": {
      "image/png": "[encoded data removed]",
      "text/plain": [
       "<Figure size 640x480 with 1 Axes>"
      ]
     },
     "metadata": {},
     "output_type": "display_data"
    }
   ],
   "source": [
    "plt.hist(data.year_of_release, range=(1980, 2017), bins=21, ec='white')\n",
    "plt.title('Games per years')\n",
    "plt.xlabel('years')\n",
    "plt.ylabel('games')\n",
    "plt.show()"
   ]
  },
  {
   "cell_type": "markdown",
   "id": "3c7a5523",
   "metadata": {},
   "source": [
    "El histograma muestra el número de juegos por años (1980-2015). Rápidamente podemos observar que el 2007 fue el año con más juegos lanzados y que los 10 primeros años se ven como atípicos, es decir los primeros años existen muy pocos lanzamientos."
   ]
  },
  {
   "cell_type": "markdown",
   "id": "2c1c91f8",
   "metadata": {
    "ExecuteTime": {
     "end_time": "2023-01-11T19:53:34.333872Z",
     "start_time": "2023-01-11T19:53:34.317470Z"
    }
   },
   "source": [
    "**¿Son significativos los datos de cada período?**\n",
    "\n",
    "Para dar respuesta vamos a determinar los años atípicos y los años significativos para nuestro análisis."
   ]
  },
  {
   "cell_type": "code",
   "execution_count": 63,
   "id": "98f71fbe",
   "metadata": {
    "ExecuteTime": {
     "end_time": "2023-01-16T03:21:44.913506Z",
     "start_time": "2023-01-16T03:21:44.898546Z"
    }
   },
   "outputs": [],
   "source": [
    "# Función bounds para calcular los límites superior e inferior de una columna.\n",
    "\n",
    "def bounds(df, col):\n",
    "    Q1 = df[col].quantile(0.25)\n",
    "    Q3 = df[col].quantile(0.75)\n",
    "    IQR = Q3 - Q1\n",
    "    lim_min = (Q1 - 1.5 * IQR).astype('int')\n",
    "    lim_max = (Q3 + 1.5 * IQR).astype('int')\n",
    "    \n",
    "    return [lim_min, lim_max]\n",
    "\n",
    "    # Retornamos una lista con 2 valores [limite inferior, limite superior]"
   ]
  },
  {
   "cell_type": "code",
   "execution_count": 64,
   "id": "16f6ce91",
   "metadata": {
    "ExecuteTime": {
     "end_time": "2023-01-16T03:21:44.929462Z",
     "start_time": "2023-01-16T03:21:44.915501Z"
    }
   },
   "outputs": [
    {
     "name": "stdout",
     "output_type": "stream",
     "text": [
      "Valid period since 1992\n"
     ]
    }
   ],
   "source": [
    "# Obtener el periodo válido de años.\n",
    "min, max = bounds(data, 'year_of_release')\n",
    "#valid   = data.query('year_of_release > @min and year_of_release < @max')['year_of_release'].sort_values().unique()\n",
    "print(f'Valid period since {min}')"
   ]
  },
  {
   "cell_type": "markdown",
   "id": "efbfd873",
   "metadata": {},
   "source": [
    "Hemos descubierto que entre 1980 y 1992 es un periodo atípicos en los datos, es decir los registros significativos para este análisis serán a partir del año 1993. \n",
    "Vamos a actualizar nuestro dataset tomando en cuenta los datos de 1992 en adelante."
   ]
  },
  {
   "cell_type": "code",
   "execution_count": 65,
   "id": "751c53f2",
   "metadata": {
    "ExecuteTime": {
     "end_time": "2023-01-16T03:21:44.951112Z",
     "start_time": "2023-01-16T03:21:44.930461Z"
    }
   },
   "outputs": [
    {
     "data": {
      "text/plain": [
       "16241"
      ]
     },
     "execution_count": 65,
     "metadata": {},
     "output_type": "execute_result"
    }
   ],
   "source": [
    "# Filtrado de datos\n",
    "data = data.query('year_of_release > @min')\n",
    "len(data)"
   ]
  },
  {
   "cell_type": "markdown",
   "id": "3409aa19",
   "metadata": {
    "ExecuteTime": {
     "end_time": "2023-01-11T20:17:16.302429Z",
     "start_time": "2023-01-11T20:17:16.291005Z"
    }
   },
   "source": [
    "Hemos depurado nuestros datos dejando solo información de los juegos a partir de 1993. El total de registros disminuyó a 16241, menos del 0.02% de registros fueron retirados."
   ]
  },
  {
   "cell_type": "markdown",
   "id": "7ddeb72f",
   "metadata": {},
   "source": [
    "## Ventas por plataforma de juego<a id='ven'></a>"
   ]
  },
  {
   "cell_type": "markdown",
   "id": "0bd4e82a",
   "metadata": {
    "ExecuteTime": {
     "end_time": "2023-01-10T17:25:59.224319Z",
     "start_time": "2023-01-10T17:25:59.214347Z"
    }
   },
   "source": [
    "Revisemos como están distribuidas las ventas por plataforma. "
   ]
  },
  {
   "cell_type": "code",
   "execution_count": 66,
   "id": "15b73ef3",
   "metadata": {
    "ExecuteTime": {
     "end_time": "2023-01-16T03:21:44.966547Z",
     "start_time": "2023-01-16T03:21:44.952577Z"
    }
   },
   "outputs": [
    {
     "data": {
      "text/plain": [
       "platform\n",
       "PS2     1247.14\n",
       "X360     966.41\n",
       "PS3      935.00\n",
       "Wii      902.33\n",
       "DS       804.20\n",
       "PS       727.58\n",
       "PS4      314.14\n",
       "GBA      313.73\n",
       "PSP      292.53\n",
       "3DS      258.21\n",
       "XB       256.66\n",
       "PC       255.76\n",
       "N64      218.01\n",
       "GC       198.66\n",
       "XOne     159.32\n",
       "GB       152.08\n",
       "SNES     124.69\n",
       "WiiU      82.19\n",
       "PSV       53.81\n",
       "SAT       33.59\n",
       "DC        15.95\n",
       "GEN        8.78\n",
       "NES        3.72\n",
       "SCD        1.86\n",
       "NG         1.44\n",
       "WS         1.42\n",
       "TG16       0.16\n",
       "3DO        0.10\n",
       "PCFX       0.03\n",
       "Name: total_sales, dtype: float64"
      ]
     },
     "execution_count": 66,
     "metadata": {},
     "output_type": "execute_result"
    }
   ],
   "source": [
    "sales = data.groupby('platform').total_sales.sum().sort_values(ascending=False)\n",
    "sales"
   ]
  },
  {
   "cell_type": "markdown",
   "id": "17b3f1d8",
   "metadata": {
    "ExecuteTime": {
     "end_time": "2023-01-14T14:07:40.509710Z",
     "start_time": "2023-01-14T14:07:40.500530Z"
    }
   },
   "source": [
    "Vemos que las ventas totals por plataformas de mayor a menor. PS2 tiene el mayor número de ventas."
   ]
  },
  {
   "cell_type": "code",
   "execution_count": 67,
   "id": "7a3d8c7e",
   "metadata": {
    "ExecuteTime": {
     "end_time": "2023-01-16T03:21:44.980411Z",
     "start_time": "2023-01-16T03:21:44.967545Z"
    }
   },
   "outputs": [
    {
     "name": "stdout",
     "output_type": "stream",
     "text": [
      "Main platforms\n",
      "['PS2', 'X360', 'PS3', 'Wii', 'DS', 'PS', 'PS4', 'GBA', 'PSP', '3DS']\n"
     ]
    }
   ],
   "source": [
    "# Guardamos en platforms las 10 plataformas con mayores ventas (de mayor a menor)\n",
    "\n",
    "platforms = sales.head(10).index.tolist()\n",
    "print('Main platforms')\n",
    "print(platforms)"
   ]
  },
  {
   "cell_type": "markdown",
   "id": "25d22966",
   "metadata": {},
   "source": [
    "Tenemos nuestras plataformas más vendidas (de mayor a menor), PS2 encabeza este top. Para ver más a detalle revisemos como las ventas de estas plataformas están distribuidas por año."
   ]
  },
  {
   "cell_type": "code",
   "execution_count": 68,
   "id": "2c10773f",
   "metadata": {
    "ExecuteTime": {
     "end_time": "2023-01-16T03:21:44.995783Z",
     "start_time": "2023-01-16T03:21:44.980411Z"
    }
   },
   "outputs": [],
   "source": [
    "# Resumen de ventas anuales por plataforma\n",
    "sales_platform = data.pivot_table(index='year_of_release', columns='platform',values='total_sales', aggfunc='sum')\n",
    "\n",
    "# Dejamos solo las columnas con las 10 plataformas principales \n",
    "sales_platform = sales_platform[platforms]"
   ]
  },
  {
   "cell_type": "code",
   "execution_count": 69,
   "id": "b16870a1",
   "metadata": {
    "ExecuteTime": {
     "end_time": "2023-01-16T03:21:45.000233Z",
     "start_time": "2023-01-16T03:21:44.996780Z"
    }
   },
   "outputs": [],
   "source": [
    "# sales_platform"
   ]
  },
  {
   "cell_type": "code",
   "execution_count": 70,
   "id": "0e697467",
   "metadata": {
    "ExecuteTime": {
     "end_time": "2023-01-16T03:21:45.238314Z",
     "start_time": "2023-01-16T03:21:45.002455Z"
    },
    "scrolled": false
   },
   "outputs": [
    {
     "data": {
      "application/vnd.jupyter.widget-view+json": {
       "model_id": "df512624e4ef462183e2268503b9e6bc",
       "version_major": 2,
       "version_minor": 0
      },
      "text/plain": [
       "interactive(children=(Dropdown(description='platform', options=('ALL', 'PS2', 'X360', 'PS3', 'Wii', 'DS', 'PS'…"
      ]
     },
     "metadata": {},
     "output_type": "display_data"
    }
   ],
   "source": [
    "# Graficamos resumen de ventas anuales por plataforma\n",
    "\n",
    "@interact(platform=['ALL'] + platforms)\n",
    "def _(platform):\n",
    "    if platform == 'ALL':\n",
    "        sales_platform.plot(figsize=(10, 6), grid=True, ylabel='sales Millions USD', \n",
    "                                 title='Sales per platform and years')\n",
    "    else:\n",
    "        sales_platform.plot(y=platform, figsize=(10, 6), grid=True, ylabel='sales Millions USD',\n",
    "                                 title='Sales per platform and years')\n",
    "plt.show()"
   ]
  },
  {
   "cell_type": "markdown",
   "id": "65cbf217",
   "metadata": {},
   "source": [
    "Lectura del gráfico:\n",
    "\n",
    "* `PS2` empezó a vender en el 2000 y fue más popular entre el 2002 y el 2005 sus ventas lo reflejaban, a partir de ahí decreció su popularidad y en el 2012 dejó de vender.\n",
    "\n",
    "* `X360`, empezó a vender en el 2005 y entre el 2007 y el 2012 fue muy popular, de ahí en adelante sus ventas fueron cayendo, en el 2016 sus ventas eran muy bajas.\n",
    "\n",
    "* `PS3`, empezó a vender desde el 2005 siendo muy popular en ventas en el 2011, a partir de ahí decreció su popularidad y en el 2016 sus ventas eran poco notables.\n",
    "\n",
    "* `Wii`, empezó a vender con alta popularidad desde el 2006 llegando a sus valores máximos en venta en el 2009, desde ese año en adelante sus ventas fueron decrecieron en el 2016 sus ventas eran casi invisibles.\n",
    "\n",
    "* `DS`, empezó a vender en el 2004 haciéndose popular rápidamente, sus mejores años de ventas fue entre el 2007 y 2009, de ahí fue decreciendo y en el 2014 ya no tenía ventas.\n",
    "\n",
    "* `PS`, empezó a vender en el 1994 desapareciendo en el 2004. Sus año de máxima popularidad fue en 1998.\n",
    "\n",
    "* `PS4`, empezó a vender en el 2013 siendo todavía popular en ventas hasta el 2016. En el 2015 fue el mejor año en ventas, en el 2016 seguía siendo muy popular.\n",
    "\n",
    "* `GBA`, empezó a vender en el 2000 y desapareció en el 2008. Sus años con más ventas fueron el 2002 y el 2004.\n",
    "\n",
    "* `PSP`, empezó a vender en el 2004, siendo el 2006 el mejor año en sus ventas, de ahí para delante decreció su popularidad y en el 2016 ya no tuvo ventas.\n",
    "\n",
    "* `3DS`, empezó a vender en el 2011 este fue su mejor año en ventas, posteriormente fue perdiendo popularidad, en el 2016 registra bajas ventas."
   ]
  },
  {
   "cell_type": "markdown",
   "id": "f0286841",
   "metadata": {},
   "source": [
    "En resumen podemos indicar lo siguiente:\n",
    "\n",
    "* Las plataformas que solían ser populares y que dejaron de venderse antes del 2017 fueron el PS2, DS, PS, GBA y PSP. Por otro lado 3DS, X360, PS3 y WII en el 2016 registran bajas ventas.\n",
    "\n",
    "* Revisando los años de lanzamiento de los juegos en base a su tipo de plataforma vimos que es variado el tiempo que tardan las plataformas en aparecer. Tomando en cuenta la gráfica se hicieron apariciones en el 1994, 2000, 2004, 2005, 2006, 2011 y 2013, es decir en promedio cada 3 años se tardan en aparecer nuevas plataformas. \n",
    "\n",
    "* Podemos notar que las plataformas generalmente duran 10 años hasta que desaparecen."
   ]
  },
  {
   "cell_type": "markdown",
   "id": "a8214c03",
   "metadata": {},
   "source": [
    "## Período de tiempo<a id='per'></a>"
   ]
  },
  {
   "cell_type": "markdown",
   "id": "45b113a7",
   "metadata": {
    "ExecuteTime": {
     "end_time": "2023-01-12T16:27:24.295521Z",
     "start_time": "2023-01-12T16:27:24.274999Z"
    }
   },
   "source": [
    "Debido a que en promedio el tiempo de vida de las plataformas es de 10 años, vamos a tomar los últimos 10 años para construir nuestro modelo para el 2017 (2007 hasta el 2016)."
   ]
  },
  {
   "cell_type": "code",
   "execution_count": 71,
   "id": "4205f216",
   "metadata": {
    "ExecuteTime": {
     "end_time": "2023-01-16T03:21:45.257092Z",
     "start_time": "2023-01-16T03:21:45.239312Z"
    }
   },
   "outputs": [
    {
     "data": {
      "text/plain": [
       "9380"
      ]
     },
     "execution_count": 71,
     "metadata": {},
     "output_type": "execute_result"
    }
   ],
   "source": [
    "# Depuramos data y guardamos en clean_data\n",
    "clean_data = data.query('year_of_release > 2006')\n",
    "len(clean_data)"
   ]
  },
  {
   "cell_type": "markdown",
   "id": "acf939d1",
   "metadata": {},
   "source": [
    "Hemos creado una nueva tabla depurada de acuerdo a lo antes indicado, nuestro dataset ahora contiene 9380 registros de juegos desde el 2007, información que consideramos relevante y usaremos a continuación."
   ]
  },
  {
   "cell_type": "markdown",
   "id": "4c973837",
   "metadata": {
    "ExecuteTime": {
     "end_time": "2023-01-12T16:25:18.341755Z",
     "start_time": "2023-01-12T16:25:18.226270Z"
    }
   },
   "source": [
    "## Plataformas son líderes en ventas<a id='pla'></a>"
   ]
  },
  {
   "cell_type": "markdown",
   "id": "7804c283",
   "metadata": {
    "ExecuteTime": {
     "end_time": "2023-01-13T23:08:45.926702Z",
     "start_time": "2023-01-13T23:08:45.911736Z"
    }
   },
   "source": [
    "Primero revisemos las ventas totales por plataformas usando nuestros datos apartir del 2007."
   ]
  },
  {
   "cell_type": "code",
   "execution_count": 72,
   "id": "619e040a",
   "metadata": {
    "ExecuteTime": {
     "end_time": "2023-01-16T03:21:45.469075Z",
     "start_time": "2023-01-16T03:21:45.257092Z"
    }
   },
   "outputs": [
    {
     "data": {
      "image/png": "[encoded data removed]",
      "text/plain": [
       "<Figure size 1000x600 with 1 Axes>"
      ]
     },
     "metadata": {},
     "output_type": "display_data"
    }
   ],
   "source": [
    "sales_2 = clean_data.groupby('platform').total_sales.sum().sort_values(ascending=False)\n",
    "sales_2.plot(kind='bar', ylabel='millions USD', figsize=(10,6))\n",
    "plt.title('Sales games per platform')\n",
    "plt.show()"
   ]
  },
  {
   "cell_type": "markdown",
   "id": "c776bde1",
   "metadata": {},
   "source": [
    "Observamos gráficamente las ventas por plataformas, como vemos las platafomras con mayores ventas son PS3, X360 y Wii.\n",
    "\n",
    "Entonces ¿cuáles plataformas crecen y cuáles decrecen?, para responder esta pregunta revisemos las ventas de plataformas en el tiempo, es decir como varian por año, tomaremos las 10 mejores plataformas para la revisión."
   ]
  },
  {
   "cell_type": "code",
   "execution_count": 73,
   "id": "4fccb3f6",
   "metadata": {
    "ExecuteTime": {
     "end_time": "2023-01-16T03:21:45.484525Z",
     "start_time": "2023-01-16T03:21:45.470452Z"
    }
   },
   "outputs": [],
   "source": [
    "# Resumen de ventas anuales por plataforma\n",
    "sales_platform_2 = clean_data.pivot_table(index='year_of_release', columns='platform', values='total_sales',aggfunc='sum')\n",
    "\n",
    "# Depuramos la tabla resumen dejando solo las columnas con las 10 plataformas principales\n",
    "top_platforms = sales_2.head(10).index.tolist()\n",
    "sales_platform_2 = sales_platform_2[top_platforms]"
   ]
  },
  {
   "cell_type": "code",
   "execution_count": 74,
   "id": "eb28b57c",
   "metadata": {
    "ExecuteTime": {
     "end_time": "2023-01-16T03:21:45.499326Z",
     "start_time": "2023-01-16T03:21:45.485896Z"
    }
   },
   "outputs": [],
   "source": [
    "# sales_platform_2"
   ]
  },
  {
   "cell_type": "code",
   "execution_count": 75,
   "id": "68653bcc",
   "metadata": {
    "ExecuteTime": {
     "end_time": "2023-01-16T03:21:45.733427Z",
     "start_time": "2023-01-16T03:21:45.499326Z"
    }
   },
   "outputs": [
    {
     "data": {
      "application/vnd.jupyter.widget-view+json": {
       "model_id": "715afe0145f44338a928459d847bc3b2",
       "version_major": 2,
       "version_minor": 0
      },
      "text/plain": [
       "interactive(children=(Dropdown(description='platform', options=('ALL', 'PS3', 'X360', 'Wii', 'DS', 'PS4', '3DS…"
      ]
     },
     "metadata": {},
     "output_type": "display_data"
    }
   ],
   "source": [
    "# Graficamos\n",
    "\n",
    "@interact(platform=['ALL'] + top_platforms)\n",
    "def _(platform):\n",
    "    if platform == 'ALL':\n",
    "        sales_platform_2.plot(figsize=(10, 6), grid=True, ylabel='sales Millions USD',\n",
    "                              title='Sales per top platforms and years')\n",
    "    else:\n",
    "        sales_platform_2.plot(y=platform, figsize=(10, 6), grid=True, ylabel='sales Millions USD',\n",
    "                              title='Sales per top platforms and years')\n",
    "plt.show()"
   ]
  },
  {
   "cell_type": "markdown",
   "id": "119393f9",
   "metadata": {},
   "source": [
    "Hallazgos encontrados:\n",
    "\n",
    " * Todas las 10 plataformas decrecieron sus ventas antes del 2017. \n",
    " * PS4 y XOne aparecieron en el 2013, en el 2016 aún registran buenas ventas.\n",
    " * PS3, X360, Wii y PC registran mínimas ventas en el 2016.\n",
    " * PS2 solo decayó a partir del 2006 y desapareció a partir del 2011.\n",
    " * 3DS apareció en el 2011 en el 2016 registras ventas por debajo de PS4 y XOne."
   ]
  },
  {
   "cell_type": "markdown",
   "id": "98563edc",
   "metadata": {},
   "source": [
    "Crearemos un diagrama de caja para las ventas globales de todos los juegos, desglosados porplataforma. Revisaremos si son significativas las diferencias en las ventas? ¿Qué sucede con las ventas promedio en varias plataformas?."
   ]
  },
  {
   "cell_type": "code",
   "execution_count": 76,
   "id": "cdf198f1",
   "metadata": {
    "ExecuteTime": {
     "end_time": "2023-01-16T03:21:45.918093Z",
     "start_time": "2023-01-16T03:21:45.734423Z"
    }
   },
   "outputs": [
    {
     "data": {
      "image/png": "[encoded data removed]",
      "text/plain": [
       "<Figure size 1000x600 with 1 Axes>"
      ]
     },
     "metadata": {},
     "output_type": "display_data"
    }
   ],
   "source": [
    "# Gráfico de cajas ventas totales por plataformas\n",
    "sales_platform_2.boxplot(column=top_platforms, figsize=(10, 6))\n",
    "plt.ylabel('total sales Millions USD')\n",
    "plt.title('Total sales per platform')\n",
    "plt.show()"
   ]
  },
  {
   "cell_type": "markdown",
   "id": "7e509dac",
   "metadata": {},
   "source": [
    "De acuerdo al diagrama de cajas y bigotes podemos ver rápidamente las principales plataformas a PS3, X360, Wii, DS, PS4\n",
    "\n",
    "Notamos que PS4 tiene sus ventas menores por sobre las de PS3, X360, DS, y PS4. Por otro lado Wii, sus ventas tienen una fuerte asimetría positiva teniendo ventas muy altas por lo que se podría pensar tiene potencial también.\n",
    "\n",
    "Podemos indicar entonces que PS4 y Wii podrían ser las más rentables."
   ]
  },
  {
   "cell_type": "markdown",
   "id": "caa22306",
   "metadata": {
    "ExecuteTime": {
     "end_time": "2023-01-13T14:30:40.248851Z",
     "start_time": "2023-01-13T14:30:40.234183Z"
    }
   },
   "source": [
    "## Reseñas en la ventas de X360<a id='res'></a>"
   ]
  },
  {
   "cell_type": "markdown",
   "id": "754e0c65",
   "metadata": {},
   "source": [
    "Miremos cómo las reseñas de usuarios y profesionales afectan las ventas de una plataforma popular, por ejemplo X360. Crearemos un gráfico de dispersión y calcularemos la correlación entre las reseñas y las ventas."
   ]
  },
  {
   "cell_type": "code",
   "execution_count": 77,
   "id": "35475020",
   "metadata": {
    "ExecuteTime": {
     "end_time": "2023-01-16T03:21:45.928711Z",
     "start_time": "2023-01-16T03:21:45.920096Z"
    }
   },
   "outputs": [],
   "source": [
    "# Guardemos en games todos los juegos que tienen plataforma X360 (plataforma popular escogida al azar)\n",
    "games = clean_data.query('platform == \"X360\"')"
   ]
  },
  {
   "cell_type": "code",
   "execution_count": 78,
   "id": "aefc791a",
   "metadata": {
    "ExecuteTime": {
     "end_time": "2023-01-16T03:21:46.056213Z",
     "start_time": "2023-01-16T03:21:45.928711Z"
    },
    "scrolled": false
   },
   "outputs": [
    {
     "name": "stdout",
     "output_type": "stream",
     "text": [
      "Correlation  0.37\n"
     ]
    },
    {
     "data": {
      "image/png": "[encoded data removed]",
      "text/plain": [
       "<Figure size 640x480 with 1 Axes>"
      ]
     },
     "metadata": {},
     "output_type": "display_data"
    }
   ],
   "source": [
    "print('Correlation ', games.total_sales.corr(games.critic_score).round(2))\n",
    "\n",
    "games.plot(x='critic_score', y='total_sales', kind='scatter', grid=True, alpha=0.5, \n",
    "           title='Games on X360 correlation between critic reviews and sales')\n",
    "plt.show()"
   ]
  },
  {
   "cell_type": "markdown",
   "id": "dca1eed1",
   "metadata": {
    "ExecuteTime": {
     "end_time": "2023-01-13T15:12:44.956518Z",
     "start_time": "2023-01-13T15:12:44.941963Z"
    }
   },
   "source": [
    "Como vemos, la correlación entre el puntaje de los críticos y las ventas de los juegos es de 0.37, esto se considera una débil relación entre ellos, es decir el hecho de que un juego tenga excelente puntaje no garantizará que tengan ventas altas. Como vemos en el gráfico en puntajes altos las ventas varían mucho, pueden tener bajas o altas ventas, pero la mayoría no son tan altas."
   ]
  },
  {
   "cell_type": "code",
   "execution_count": 79,
   "id": "c1968749",
   "metadata": {
    "ExecuteTime": {
     "end_time": "2023-01-16T03:21:46.183106Z",
     "start_time": "2023-01-16T03:21:46.057209Z"
    }
   },
   "outputs": [
    {
     "name": "stdout",
     "output_type": "stream",
     "text": [
      "Correlation 0.12\n"
     ]
    },
    {
     "data": {
      "image/png": "[encoded data removed]",
      "text/plain": [
       "<Figure size 640x480 with 1 Axes>"
      ]
     },
     "metadata": {},
     "output_type": "display_data"
    }
   ],
   "source": [
    "print('Correlation', games.total_sales.corr(games.user_score).round(2))\n",
    "games.plot(x='user_score', y='total_sales', kind='scatter', grid=True, alpha=0.5, \n",
    "           title='Games on X360 correlation between user reviews and sales')\n",
    "\n",
    "plt.show()"
   ]
  },
  {
   "cell_type": "markdown",
   "id": "7072f97d",
   "metadata": {
    "ExecuteTime": {
     "end_time": "2023-01-13T15:12:44.956518Z",
     "start_time": "2023-01-13T15:12:44.941963Z"
    }
   },
   "source": [
    "La correlación entre el puntaje de los usuarios y las ventas de los juegos es de 0.12, esto se considera una relación poco notoria entre ellos, es decir muy débil, incluso más baja que el anterior, el hecho de que los juegos tengan mayores puntajes no determina que sus ventas sean altas también, como observamos en el gráfico tenemos que en altos puntajes hubieron ventas altas y bajas.\n",
    "\n",
    "En otras palabras, las reseñas de los críticos y de los usuarios no afectan directamente el éxito o fracaso en sus ventas. "
   ]
  },
  {
   "cell_type": "markdown",
   "id": "8113fd62",
   "metadata": {},
   "source": [
    "## Ventas en otras plataformas<a id='ven'></a>"
   ]
  },
  {
   "cell_type": "markdown",
   "id": "a7b77a78",
   "metadata": {
    "ExecuteTime": {
     "end_time": "2023-01-13T15:34:06.826908Z",
     "start_time": "2023-01-13T15:34:06.805147Z"
    }
   },
   "source": [
    "Revisamos que las reseñas no están fuertemente relacionadas con las ventas de los juegos de la plataforma X360. Ahora compararemos las ventas de estos mismos juegos de X360 con las ventas en otras plataformas."
   ]
  },
  {
   "cell_type": "code",
   "execution_count": 80,
   "id": "9cad7ac4",
   "metadata": {
    "ExecuteTime": {
     "end_time": "2023-01-16T03:21:46.341499Z",
     "start_time": "2023-01-16T03:21:46.184104Z"
    }
   },
   "outputs": [
    {
     "data": {
      "image/png": "[encoded data removed]",
      "text/plain": [
       "<Figure size 1000x600 with 1 Axes>"
      ]
     },
     "metadata": {},
     "output_type": "display_data"
    },
    {
     "name": "stdout",
     "output_type": "stream",
     "text": [
      "Total games on X360: 1131\n",
      "\n",
      "Sales\n",
      "platform\n",
      "X360    905.40\n",
      "PS3     701.29\n",
      "Wii     193.93\n",
      "PS4     166.90\n",
      "XOne     89.94\n",
      "PS2      89.14\n",
      "PC       86.28\n",
      "DS       68.07\n",
      "PSP      49.34\n",
      "WiiU     18.49\n",
      "3DS      18.32\n",
      "PSV      12.03\n",
      "XB        0.55\n",
      "GC        0.27\n",
      "GBA       0.19\n",
      "dtype: float64\n"
     ]
    }
   ],
   "source": [
    "# Usaremos @games.name para obtener el listado nombres de los mismos juegos que tiene la plataforma X360\n",
    "# y otras plataformas \"PS3\", \"Wii\", \"DS\", \"PS4\".\n",
    "\n",
    "games_filter = clean_data.query('name in @games.name').pivot_table(index='year_of_release', \n",
    "                                                                   columns='platform', values='total_sales', \n",
    "                                                                   aggfunc='sum')\n",
    "\n",
    "games_filter.boxplot(column= [\"PS3\", \"X360\", \"Wii\", \"DS\", \"PS4\"], figsize=(10,6))\n",
    "plt.ylabel('Sales Millions USD')\n",
    "plt.title('Sales of games on X360 and on other plataforms PS3, Wii, DS, PS4')\n",
    "plt.show()\n",
    "\n",
    "# Información sobre las ventas\n",
    "print('Total games on X360:', len(clean_data.query('name in @games.name').name.unique()))\n",
    "print('\\nSales')\n",
    "print(games_filter.sum().sort_values(ascending=False))"
   ]
  },
  {
   "cell_type": "markdown",
   "id": "45b46b2b",
   "metadata": {
    "ExecuteTime": {
     "end_time": "2023-01-13T22:01:33.496589Z",
     "start_time": "2023-01-13T22:01:33.490874Z"
    }
   },
   "source": [
    "Hemos evaluado las ventas de 1131 juegos y notamos claramente que las ventas de los juegos en la plataforma X360 es mucho mayor respecto a la otras plataformas."
   ]
  },
  {
   "cell_type": "markdown",
   "id": "7a389fe3",
   "metadata": {},
   "source": [
    "## Ventas por género de juego<a id='vent'></a>"
   ]
  },
  {
   "cell_type": "markdown",
   "id": "2f5320f5",
   "metadata": {},
   "source": [
    "* Echa un vistazo a la distribución general de los juegos por género. ¿Qué se puede decir de los géneros más rentables? ¿Puedes generalizar acerca de los géneros con ventas altas y bajas?"
   ]
  },
  {
   "cell_type": "code",
   "execution_count": 81,
   "id": "ed4267b0",
   "metadata": {
    "ExecuteTime": {
     "end_time": "2023-01-16T03:21:46.357328Z",
     "start_time": "2023-01-16T03:21:46.342464Z"
    }
   },
   "outputs": [],
   "source": [
    "# Resumen por género\n",
    "games_genre = clean_data.groupby('genre').agg({'total_sales': ['count','sum']})\n",
    "games_genre.columns = ['games','sales']\n",
    "games_genre['sales'] = round(games_genre['sales']).astype('int')\n",
    "games_genre.sort_values(by='sales',ascending=False, inplace=True)"
   ]
  },
  {
   "cell_type": "code",
   "execution_count": 82,
   "id": "87c0964d",
   "metadata": {
    "ExecuteTime": {
     "end_time": "2023-01-16T03:21:46.373136Z",
     "start_time": "2023-01-16T03:21:46.357328Z"
    }
   },
   "outputs": [],
   "source": [
    "# games_genre"
   ]
  },
  {
   "cell_type": "code",
   "execution_count": 83,
   "id": "ea8bae39",
   "metadata": {
    "ExecuteTime": {
     "end_time": "2023-01-16T03:21:46.517537Z",
     "start_time": "2023-01-16T03:21:46.374892Z"
    },
    "scrolled": false
   },
   "outputs": [
    {
     "data": {
      "image/png": "[encoded data removed]",
      "text/plain": [
       "<Figure size 1000x600 with 1 Axes>"
      ]
     },
     "metadata": {},
     "output_type": "display_data"
    }
   ],
   "source": [
    "# Graficamos como están distribuidos los juegos por género\n",
    "games_genre.games.plot(kind='bar', rot=25, figsize=(10,6), ylabel='games')\n",
    "plt.title('Games per genre')\n",
    "plt.show()"
   ]
  },
  {
   "cell_type": "markdown",
   "id": "4ef32c9c",
   "metadata": {},
   "source": [
    "- El género *Action* tiene el mayor número de juegos sobrepasa los 2000 juegos.\n",
    "- El género *Platform* tiene el menor número de juegos lanzados."
   ]
  },
  {
   "cell_type": "code",
   "execution_count": 84,
   "id": "7fbcaf70",
   "metadata": {
    "ExecuteTime": {
     "end_time": "2023-01-16T03:21:46.875482Z",
     "start_time": "2023-01-16T03:21:46.525525Z"
    },
    "scrolled": false
   },
   "outputs": [
    {
     "data": {
      "image/png": "[encoded data removed]",
      "text/plain": [
       "<Figure size 1000x600 with 1 Axes>"
      ]
     },
     "metadata": {},
     "output_type": "display_data"
    },
    {
     "data": {
      "image/png": "[encoded data removed]",
      "text/plain": [
       "<Figure size 1000x600 with 1 Axes>"
      ]
     },
     "metadata": {},
     "output_type": "display_data"
    }
   ],
   "source": [
    "# Gráficos por totales de ventas y género\n",
    "games_genre.sales.plot(figsize=(10,6), kind='bar', rot=25, color='LimeGreen')\n",
    "plt.title('Sales games per genre')\n",
    "plt.ylabel('millions USD')\n",
    "plt.show()\n",
    "\n",
    "clean_data.pivot_table(index='year_of_release', columns='genre', \n",
    "                       values='total_sales', aggfunc='sum'\n",
    "                      ).boxplot(figsize=(10, 6), rot=25)\n",
    "plt.title('Sales games per genre')\n",
    "plt.ylabel('millions USD')\n",
    "plt.show()"
   ]
  },
  {
   "cell_type": "markdown",
   "id": "8a3e39a2",
   "metadata": {},
   "source": [
    "*Action, Shooter y Sports* son los géneros con mayores ventas, sobresaliendo notablemente *Action*, no esperábamos menos con la inmensa cantidad de juegos que posee.\n",
    "\n",
    "- *Action* tiene una asimetría negativa, esto quiere decir que el promedio de sus ventas es menor que la mediana de ellas.\n",
    "- *Shooter* tiene su promedio y mediana muy cercanas lo cual nos menor probabilidad de caer en bajas ventas sin embargo sus ventas más altas no están sobre las de los géneros Áction y Sports.\n",
    "- *Sports*  se encuentra sesgada a la derecha, esto quiere decir que la venta promedio es mayor que la mediana. Sus datos estas bastante sesgados, sus ventas bajas pueden estar por debajo de Action y Shooter, pero con ventas casi tan altas como Action.\n"
   ]
  },
  {
   "cell_type": "markdown",
   "id": "c8aaf083",
   "metadata": {},
   "source": [
    "# Perfil de usuario para cada región<a id='per'></a>"
   ]
  },
  {
   "cell_type": "markdown",
   "id": "06c29e49",
   "metadata": {},
   "source": [
    "Para cada región (NA, UE, JP) determinemos:\n",
    "* Las cinco plataformas principales. Describe las variaciones en sus cuotas de mercado de una región a otra.\n",
    "* Los cinco géneros principales. Explica la diferencia.\n",
    "* Si las clasificaciones de ESRB afectan a las ventas en regiones individuales."
   ]
  },
  {
   "cell_type": "markdown",
   "id": "b7c54aac",
   "metadata": {},
   "source": [
    "## Las 5 plataformas en NA, EU y JP<a id='las'></a>"
   ]
  },
  {
   "cell_type": "code",
   "execution_count": 85,
   "id": "debb719c",
   "metadata": {
    "ExecuteTime": {
     "end_time": "2023-01-16T03:21:47.025255Z",
     "start_time": "2023-01-16T03:21:46.877678Z"
    }
   },
   "outputs": [
    {
     "data": {
      "image/png": "[encoded data removed]",
      "text/plain": [
       "<Figure size 640x480 with 1 Axes>"
      ]
     },
     "metadata": {},
     "output_type": "display_data"
    }
   ],
   "source": [
    "platform_region = clean_data.groupby('platform')[['na_sales', 'eu_sales', 'jp_sales']].sum()\n",
    "\n",
    "platform_region.sort_values(by='na_sales',ascending=False).head().plot(kind='bar', ylabel='millions USD', rot=25)\n",
    "plt.title('5 main platforms in North America')\n",
    "plt.show()"
   ]
  },
  {
   "cell_type": "markdown",
   "id": "e249dbe6",
   "metadata": {},
   "source": [
    "Las plataformas con mayores ventas en Norte América son X360, Wii, PS3, DS y PS4 (de mayor a menor)."
   ]
  },
  {
   "cell_type": "code",
   "execution_count": 86,
   "id": "f5408002",
   "metadata": {
    "ExecuteTime": {
     "end_time": "2023-01-16T03:21:47.168200Z",
     "start_time": "2023-01-16T03:21:47.026249Z"
    },
    "scrolled": false
   },
   "outputs": [
    {
     "data": {
      "image/png": "[encoded data removed]",
      "text/plain": [
       "<Figure size 640x480 with 1 Axes>"
      ]
     },
     "metadata": {},
     "output_type": "display_data"
    }
   ],
   "source": [
    "platform_region.sort_values(by='eu_sales',ascending=False).head().plot(kind='bar', ylabel='millions USD')\n",
    "plt.title('5 main platforms in Europe')\n",
    "plt.show()"
   ]
  },
  {
   "cell_type": "markdown",
   "id": "3b0b070e",
   "metadata": {},
   "source": [
    "Las plataformas con mayores ventas en Europa son PS3, X360, Wii, PS4 y DS (de mayor a menor)."
   ]
  },
  {
   "cell_type": "code",
   "execution_count": 87,
   "id": "a0b46804",
   "metadata": {
    "ExecuteTime": {
     "end_time": "2023-01-16T03:21:47.330300Z",
     "start_time": "2023-01-16T03:21:47.169012Z"
    },
    "scrolled": false
   },
   "outputs": [
    {
     "data": {
      "image/png": "[encoded data removed]",
      "text/plain": [
       "<Figure size 640x480 with 1 Axes>"
      ]
     },
     "metadata": {},
     "output_type": "display_data"
    }
   ],
   "source": [
    "platform_region.sort_values(by='jp_sales',ascending=False).head().plot(kind='bar', ylabel='millions USD')\n",
    "plt.title('5 main platforms in Japan')\n",
    "plt.show()"
   ]
  },
  {
   "cell_type": "markdown",
   "id": "9a00aa39",
   "metadata": {},
   "source": [
    "Las plataformas con mayores ventas en Japón son DS, 3DS, PS3, PSP y Wii (de mayor a menor)."
   ]
  },
  {
   "cell_type": "markdown",
   "id": "8e15e5dd",
   "metadata": {},
   "source": [
    "Similitudes y diferencias:\n",
    "\n",
    "- En Norte América y Europa las 5 principales plataformas son las mismas X360, Wii, PS3, DS y PS4. \n",
    "- En Japón X360 y PS4 no están dentro de sus 5 principales plataformas, en su lugar DS y PSP. \n",
    "- En las 3 regiones NA, EU y JP coinciden Wii, PS3 y DS."
   ]
  },
  {
   "cell_type": "markdown",
   "id": "0db967bf",
   "metadata": {},
   "source": [
    "## Los 5 géneros en NA, EU y JP<a id='los'></a>"
   ]
  },
  {
   "cell_type": "code",
   "execution_count": 88,
   "id": "804ee295",
   "metadata": {
    "ExecuteTime": {
     "end_time": "2023-01-16T03:21:47.493135Z",
     "start_time": "2023-01-16T03:21:47.332295Z"
    },
    "scrolled": false
   },
   "outputs": [
    {
     "data": {
      "image/png": "[encoded data removed]",
      "text/plain": [
       "<Figure size 640x480 with 1 Axes>"
      ]
     },
     "metadata": {},
     "output_type": "display_data"
    }
   ],
   "source": [
    "genre_region = clean_data.groupby('genre')[['na_sales', 'eu_sales', 'jp_sales']].sum()\n",
    "\n",
    "genre_region.sort_values(by='na_sales',ascending=False).head().plot(kind='bar', ylabel='millions USD', rot=25)\n",
    "plt.title('5 main genres in North America')\n",
    "plt.show()"
   ]
  },
  {
   "cell_type": "markdown",
   "id": "abc047d5",
   "metadata": {},
   "source": [
    "Action, Shooter, Sports, Misc y Role-Playing son los 5 principales géneros de juegos de acuerdo a sus ventas en Norte América."
   ]
  },
  {
   "cell_type": "code",
   "execution_count": 89,
   "id": "9bdfd731",
   "metadata": {
    "ExecuteTime": {
     "end_time": "2023-01-16T03:21:47.649512Z",
     "start_time": "2023-01-16T03:21:47.495358Z"
    },
    "scrolled": false
   },
   "outputs": [
    {
     "data": {
      "image/png": "[encoded data removed]",
      "text/plain": [
       "<Figure size 640x480 with 1 Axes>"
      ]
     },
     "metadata": {},
     "output_type": "display_data"
    }
   ],
   "source": [
    "genre_region.sort_values(by='eu_sales',ascending=False).head().plot(kind='bar', ylabel='millions USD', rot=25)\n",
    "plt.title('5 main genres in Europe')\n",
    "plt.show()"
   ]
  },
  {
   "cell_type": "markdown",
   "id": "25f5d059",
   "metadata": {},
   "source": [
    "Action, Shooter, Sports, Misc y Racing son los 5 principales géneros de juegos de acuerdo a sus ventas en Europa."
   ]
  },
  {
   "cell_type": "code",
   "execution_count": 90,
   "id": "a70bf56a",
   "metadata": {
    "ExecuteTime": {
     "end_time": "2023-01-16T03:21:47.801714Z",
     "start_time": "2023-01-16T03:21:47.650464Z"
    },
    "scrolled": false
   },
   "outputs": [
    {
     "data": {
      "image/png": "[encoded data removed]",
      "text/plain": [
       "<Figure size 640x480 with 1 Axes>"
      ]
     },
     "metadata": {},
     "output_type": "display_data"
    }
   ],
   "source": [
    "genre_region.sort_values(by='jp_sales',ascending=False).head().plot(kind='bar', ylabel='millions USD', rot=25)\n",
    "plt.title('5 main genres in Japan')\n",
    "plt.show()"
   ]
  },
  {
   "cell_type": "markdown",
   "id": "3d2b5a34",
   "metadata": {},
   "source": [
    "Role-Playin, Action, Misc, Sports y Adventure son los 5 principales géneros de juegos de acuerdo a sus ventas en Japón."
   ]
  },
  {
   "cell_type": "markdown",
   "id": "af11403d",
   "metadata": {},
   "source": [
    "Similitudes y diferencias:\n",
    "\n",
    "- Action, Sports, Misc coinciden dentro de los 5 principales géneros en las 3 regiones a la vez.\n",
    "- En NA y EU coinciden en 4 de 5 plataformas principales: Action, Shooter, Sports y Misc (de mayor a menor ventas).\n",
    "- Adventure es el género que aparece en Japón como principal, pero no en NA ni EU. \n",
    "- En NA y EU Shooter es un género principal que no es en Japón."
   ]
  },
  {
   "cell_type": "markdown",
   "id": "ddfa5032",
   "metadata": {
    "ExecuteTime": {
     "end_time": "2023-01-15T23:45:31.964244Z",
     "start_time": "2023-01-15T23:45:31.056400Z"
    }
   },
   "source": [
    "## Clasificaciones de ESRB afectan a las ventas en regiones individuales<a id='cla'></a>"
   ]
  },
  {
   "cell_type": "code",
   "execution_count": 91,
   "id": "2af20330",
   "metadata": {
    "ExecuteTime": {
     "end_time": "2023-01-16T03:21:48.029651Z",
     "start_time": "2023-01-16T03:21:47.803634Z"
    }
   },
   "outputs": [
    {
     "data": {
      "image/png": "[encoded data removed]",
      "text/plain": [
       "<Figure size 640x480 with 1 Axes>"
      ]
     },
     "metadata": {},
     "output_type": "display_data"
    }
   ],
   "source": [
    "rating_region = clean_data.groupby('rating')[['na_sales', 'eu_sales', 'jp_sales']].sum()\n",
    "\n",
    "rating_region.sort_values(by='na_sales',ascending=False).plot(kind='bar', ylabel='millions USD', rot=25)\n",
    "plt.title('Rating in North America')\n",
    "plt.show()"
   ]
  },
  {
   "cell_type": "markdown",
   "id": "c6ddf27a",
   "metadata": {},
   "source": [
    "En Norte América y Europa las ventas mayores están en la categoría E (todos). En Japón las ventas mayores son T (adolescentes).\n",
    "\n",
    "En Norte América y Europa los juegos con categoria M (mayores de 17 años) es la segunda categoría de juego más vendida. Esto en Japón no ocurre, puesto que ocupa casi el último lugar en ventas."
   ]
  },
  {
   "cell_type": "markdown",
   "id": "e1fc5917",
   "metadata": {},
   "source": [
    "# Prueba de hipótesis<a id='hip'></a>"
   ]
  },
  {
   "cell_type": "markdown",
   "id": "c50f2d3d",
   "metadata": {
    "ExecuteTime": {
     "end_time": "2023-01-16T01:22:48.107169Z",
     "start_time": "2023-01-16T01:22:48.090982Z"
    }
   },
   "source": [
    "Queremos saber si:\n",
    "1. la calificación promedio de los usuarios para las plataformas Xbox One y PC son las mismas.\n",
    "2. la calificación promedio de los usuarios para los géneros de Acción y Deportes son diferentes.\n",
    "\n",
    "Primero vamos a filtrar nuestro dataset creando variables donde estarán los datos sobre las puntuaciones de usuarios para las plataformas Xbox One y PC y para los géneros Action y Sports."
   ]
  },
  {
   "cell_type": "code",
   "execution_count": 92,
   "id": "82c7bf44",
   "metadata": {
    "ExecuteTime": {
     "end_time": "2023-01-16T03:21:48.048461Z",
     "start_time": "2023-01-16T03:21:48.031679Z"
    }
   },
   "outputs": [],
   "source": [
    "# Filtramos y guardamos en las variables xboxone, pc, action, sport que usaremos en las pruebas de hipótesis.\n",
    "\n",
    "xboxone = clean_data.query('platform == \"XOne\" and not user_score.isna()')['user_score']\n",
    "pc      = clean_data.query('platform == \"PC\" and not user_score.isna()')['user_score']\n",
    "\n",
    "action = clean_data.query('genre == \"Action\" and not user_score.isna()')['user_score']\n",
    "sports  = clean_data.query('genre == \"Sports\" and not user_score.isna()')['user_score']"
   ]
  },
  {
   "cell_type": "markdown",
   "id": "6418f2a6",
   "metadata": {},
   "source": [
    "## Prueba de hipótesis 1<a id='pr1'></a>"
   ]
  },
  {
   "cell_type": "markdown",
   "id": "04d15193",
   "metadata": {
    "ExecuteTime": {
     "end_time": "2023-01-16T01:22:48.107169Z",
     "start_time": "2023-01-16T01:22:48.090982Z"
    }
   },
   "source": [
    "**Formulación de hipótesis nula (H0) y alternativa (Ha):**\n",
    " - H0: la calificación promedio de los usuarios para las plataformas Xbox One y PC son iguales.\n",
    " - H1: la calificación promedio de los usuarios para las plataformas Xbox One y PC son diferentes.\n",
    " \n",
    "Establecemos el nivel de significancia en 5% asumiendo un nivel de confianza del 95%."
   ]
  },
  {
   "cell_type": "code",
   "execution_count": 93,
   "id": "c1d79565",
   "metadata": {
    "ExecuteTime": {
     "end_time": "2023-01-16T03:21:48.062545Z",
     "start_time": "2023-01-16T03:21:48.048461Z"
    }
   },
   "outputs": [
    {
     "name": "stdout",
     "output_type": "stream",
     "text": [
      "The average user score for Xbox 6.51 and PC 6.77\n"
     ]
    }
   ],
   "source": [
    "print(f'The average user score for Xbox {xboxone.mean():.2f} and PC {pc.mean():.2f}')"
   ]
  },
  {
   "cell_type": "code",
   "execution_count": 94,
   "id": "f689aa71",
   "metadata": {
    "ExecuteTime": {
     "end_time": "2023-01-16T03:21:48.071971Z",
     "start_time": "2023-01-16T03:21:48.062545Z"
    }
   },
   "outputs": [
    {
     "name": "stdout",
     "output_type": "stream",
     "text": [
      "p-value:  0.030031155561078892\n",
      "Rechazamos la hipótesis nula\n"
     ]
    }
   ],
   "source": [
    "alpha = 0.05\n",
    "results = st.ttest_ind(xboxone, pc, equal_var=False)\n",
    "\n",
    "print('p-value: ', results.pvalue)\n",
    "\n",
    "if results.pvalue < alpha:\n",
    "    print(\"Rechazamos la hipótesis nula\")\n",
    "else:\n",
    "    print(\"No rechazamos la hipótesis nula\")"
   ]
  },
  {
   "cell_type": "markdown",
   "id": "f2cb171a",
   "metadata": {},
   "source": [
    "Existe el 3% de probabilidad de que las calificaciones promedios de los usuarios sean iguales en la plataforma Xbox como en la plataforma PC, esta probabilidad es demaciado baja, por lo que decidimos rechazar nuestra hipótesis nula."
   ]
  },
  {
   "cell_type": "markdown",
   "id": "c91731f5",
   "metadata": {},
   "source": [
    "## Prueba de hipótesis 2<a id='pr2'></a>"
   ]
  },
  {
   "cell_type": "markdown",
   "id": "f9aa37db",
   "metadata": {},
   "source": [
    "**Formulación de hipótesis nula (H0) y alternativa (Ha):**\n",
    "\n",
    " - H0: la calificación promedio de los usuarios para los géneros de Acción y Deportes son iguales.\n",
    " - H1: la calificación promedio de los usuarios para los géneros de Acción y Deportes son diferentes."
   ]
  },
  {
   "cell_type": "code",
   "execution_count": 95,
   "id": "a9269ead",
   "metadata": {
    "ExecuteTime": {
     "end_time": "2023-01-16T03:21:48.082231Z",
     "start_time": "2023-01-16T03:21:48.071971Z"
    }
   },
   "outputs": [
    {
     "name": "stdout",
     "output_type": "stream",
     "text": [
      "The average user score for genre Action 6.75 and Sports 6.24\n"
     ]
    }
   ],
   "source": [
    "print(f'The average user score for genre Action {action.mean():.2f} and Sports {sports.mean():.2f}')"
   ]
  },
  {
   "cell_type": "code",
   "execution_count": 96,
   "id": "2dde2aab",
   "metadata": {
    "ExecuteTime": {
     "end_time": "2023-01-16T03:21:48.097792Z",
     "start_time": "2023-01-16T03:21:48.082231Z"
    }
   },
   "outputs": [
    {
     "name": "stdout",
     "output_type": "stream",
     "text": [
      "p-value:  9.478523258685512e-12\n",
      "Rechazamos la hipótesis nula\n"
     ]
    }
   ],
   "source": [
    "alpha = 0.05\n",
    "results = st.ttest_ind(action, sports, equal_var=False)\n",
    "\n",
    "print('p-value: ', results.pvalue)\n",
    "\n",
    "if results.pvalue < alpha:\n",
    "    print(\"Rechazamos la hipótesis nula\")\n",
    "else:\n",
    "    print(\"No rechazamos la hipótesis nula\")"
   ]
  },
  {
   "cell_type": "markdown",
   "id": "cc54e949",
   "metadata": {},
   "source": [
    "Existe el 0.0000000009% de probabilidad de que las calificaciones promedios de los usuarios sean iguales en los juegos con género Acción y Deportes, esta probabilidad es casi nula, por lo que decidimos rotundamente rechazar nuestra hipótesis nula."
   ]
  },
  {
   "cell_type": "markdown",
   "id": "0113ff92",
   "metadata": {},
   "source": [
    "# Conclusión general<a id='con'></a>"
   ]
  },
  {
   "cell_type": "markdown",
   "id": "4ddbb4f7",
   "metadata": {},
   "source": [
    "Este trabajo buscó identificar patrones que determinen si un juego tiene éxito o no. Esto permitirá detectar proyectos prometedores y planificar campañas publicitarias futuras.\n",
    "\n",
    "Empezamos preparando los datos realizando un importante tratamiento de valores ausente en varias columnas de nuestro dataset, a los cuales pudimos imputar parcialmente, tratando de no afectar los datos para no trastocar nuestro análisis posterior. Se crearon nuevas columnas una de ellas total_sales con la que manejamos las ventas totales de los juegos.\n",
    "\n",
    "En la fase de análisis pudimos obtener los siguientes resultados:\n",
    "\n",
    "* Las plataformas tienen un tiempo de vida de +-10 años, por lo que determinamos el periodo de estudio de este análisis desde el 2007 hasta el 2016 (los últimos 10 años).\n",
    "* Las plataformas con más ventas son PS3 y X360, y potencialmente más rentables PS4 y Wii.\n",
    "* Las reseñas de los críticos y la de los usuarios no se relacionan claramente con el éxito o fracaso de sus ventas.\n",
    "* El juegos de género Action, Shooter y Sports tienen el mayor número de juegos así como también el mayor número en ventas.\n",
    "* Los mejores perfiles de jugadores en Norte América, Europa y Japón son los siguientes:\n",
    "  * Los usuarios de Norte América de los juegos de plataforma X360, de género Acción, de clasificación E (todas las edades)\n",
    "  * Los usuarios de Europa de los juegos de plataforma PS3, de género Acción, de clasificación E (todas las edades)\n",
    "  * Los usuarios de Japón de los juegos de plataforma DS, de género Role-Playing, de clasificación T (mayores de 17 años)\n",
    "\n",
    "Realizamos 2 pruebas de hipótesis y obtuvimos las siguientes conclusiones:\n",
    "- El promedio de la calificación de los usuarios para los juegos de plataforma Xbox y PC no son iguales.\n",
    "- El promedio de la calificación de los usuarios para los juegos de géneros de Acción y Deportes no son iguales.\n"
   ]
  }
 ],
 "metadata": {
  "hide_input": false,
  "kernelspec": {
   "display_name": "env39",
   "language": "python",
   "name": "python3"
  },
  "language_info": {
   "codemirror_mode": {
    "name": "ipython",
    "version": 3
   },
   "file_extension": ".py",
   "mimetype": "text/x-python",
   "name": "python",
   "nbconvert_exporter": "python",
   "pygments_lexer": "ipython3",
   "version": "3.9.15"
  },
  "toc": {
   "base_numbering": 1,
   "nav_menu": {},
   "number_sections": true,
   "sideBar": true,
   "skip_h1_title": false,
   "title_cell": "Table of Contents",
   "title_sidebar": "Contents",
   "toc_cell": false,
   "toc_position": {
    "height": "calc(100% - 180px)",
    "left": "10px",
    "top": "150px",
    "width": "275px"
   },
   "toc_section_display": true,
   "toc_window_display": true
  },
  "vscode": {
   "interpreter": {
    "hash": "d8acedbd0dbe0ef603ed509b87f45f14acec3adee6d1fcd590fdbbdea64891c7"
   }
  }
 },
 "nbformat": 4,
 "nbformat_minor": 5
}
